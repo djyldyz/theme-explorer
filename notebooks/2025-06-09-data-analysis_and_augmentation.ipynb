{
 "cells": [
  {
   "cell_type": "markdown",
   "metadata": {},
   "source": [
    "# Exploration of user feedback data"
   ]
  },
  {
   "cell_type": "markdown",
   "metadata": {},
   "source": [
    "This notebook contains analysis performed as part of technical exercise for the position of Data Scientist with GDS Product Group.\n",
    "\n",
    "Notebook structure:\n",
    "* Section 1: Investigating the dataset\n",
    "* Section 2: Data augmentation\n",
    "* Section 3: Detecting themes in user feedback"
   ]
  },
  {
   "cell_type": "code",
   "execution_count": 1,
   "metadata": {},
   "outputs": [],
   "source": [
    "import time\n",
    "\n",
    "import altair\n",
    "import hdbscan\n",
    "import matplotlib.pyplot as plt\n",
    "import numpy as np\n",
    "import pandas as pd\n",
    "import seaborn as sns\n",
    "import umap\n",
    "from sentence_transformers import SentenceTransformer\n",
    "from sklearn.feature_extraction.text import CountVectorizer\n",
    "\n",
    "from theme_explorer.llm.llm_synthetic import SyntheticSurvey\n",
    "from theme_explorer.utils.text_cleaning import clean_text, flag_spam_content"
   ]
  },
  {
   "cell_type": "markdown",
   "metadata": {},
   "source": [
    "## Section 1: Investigating the dataset"
   ]
  },
  {
   "cell_type": "markdown",
   "metadata": {},
   "source": [
    "### Load provided dataset"
   ]
  },
  {
   "cell_type": "code",
   "execution_count": 2,
   "metadata": {},
   "outputs": [],
   "source": [
    "data = pd.read_csv(\"../data/raw/feedback_data.csv\")"
   ]
  },
  {
   "cell_type": "code",
   "execution_count": 3,
   "metadata": {},
   "outputs": [
    {
     "data": {
      "text/html": [
       "<div>\n",
       "<style scoped>\n",
       "    .dataframe tbody tr th:only-of-type {\n",
       "        vertical-align: middle;\n",
       "    }\n",
       "\n",
       "    .dataframe tbody tr th {\n",
       "        vertical-align: top;\n",
       "    }\n",
       "\n",
       "    .dataframe thead th {\n",
       "        text-align: right;\n",
       "    }\n",
       "</style>\n",
       "<table border=\"1\" class=\"dataframe\">\n",
       "  <thead>\n",
       "    <tr style=\"text-align: right;\">\n",
       "      <th></th>\n",
       "      <th>Feedback</th>\n",
       "      <th>Sentiment</th>\n",
       "    </tr>\n",
       "  </thead>\n",
       "  <tbody>\n",
       "    <tr>\n",
       "      <th>count</th>\n",
       "      <td>51</td>\n",
       "      <td>51</td>\n",
       "    </tr>\n",
       "    <tr>\n",
       "      <th>unique</th>\n",
       "      <td>50</td>\n",
       "      <td>2</td>\n",
       "    </tr>\n",
       "    <tr>\n",
       "      <th>top</th>\n",
       "      <td>The page loads are too slow and it frustrates ...</td>\n",
       "      <td>Negative</td>\n",
       "    </tr>\n",
       "    <tr>\n",
       "      <th>freq</th>\n",
       "      <td>2</td>\n",
       "      <td>27</td>\n",
       "    </tr>\n",
       "  </tbody>\n",
       "</table>\n",
       "</div>"
      ],
      "text/plain": [
       "                                                 Feedback Sentiment\n",
       "count                                                  51        51\n",
       "unique                                                 50         2\n",
       "top     The page loads are too slow and it frustrates ...  Negative\n",
       "freq                                                    2        27"
      ]
     },
     "execution_count": 3,
     "metadata": {},
     "output_type": "execute_result"
    }
   ],
   "source": [
    "data.describe()"
   ]
  },
  {
   "cell_type": "markdown",
   "metadata": {},
   "source": [
    "Quick look at the dataset shows that it contains two variables: `Feedback` and `Sentiment`. The `Feedback` is typically is a short sentence and the `Sentiment` is a binary label.\n",
    "\n",
    "It also appears that some `Feedback` values are duplicates."
   ]
  },
  {
   "cell_type": "code",
   "execution_count": 4,
   "metadata": {},
   "outputs": [
    {
     "data": {
      "text/html": [
       "<div>\n",
       "<style scoped>\n",
       "    .dataframe tbody tr th:only-of-type {\n",
       "        vertical-align: middle;\n",
       "    }\n",
       "\n",
       "    .dataframe tbody tr th {\n",
       "        vertical-align: top;\n",
       "    }\n",
       "\n",
       "    .dataframe thead th {\n",
       "        text-align: right;\n",
       "    }\n",
       "</style>\n",
       "<table border=\"1\" class=\"dataframe\">\n",
       "  <thead>\n",
       "    <tr style=\"text-align: right;\">\n",
       "      <th></th>\n",
       "      <th>30</th>\n",
       "      <th>44</th>\n",
       "      <th>19</th>\n",
       "    </tr>\n",
       "  </thead>\n",
       "  <tbody>\n",
       "    <tr>\n",
       "      <th>Feedback</th>\n",
       "      <td>The interactive tool helped me calculate my po...</td>\n",
       "      <td>Font size is too small on some informational p...</td>\n",
       "      <td>The step-by-step guide for applying was perfec...</td>\n",
       "    </tr>\n",
       "    <tr>\n",
       "      <th>Sentiment</th>\n",
       "      <td>Positive</td>\n",
       "      <td>Negative</td>\n",
       "      <td>Positive</td>\n",
       "    </tr>\n",
       "  </tbody>\n",
       "</table>\n",
       "</div>"
      ],
      "text/plain": [
       "                                                          30  \\\n",
       "Feedback   The interactive tool helped me calculate my po...   \n",
       "Sentiment                                           Positive   \n",
       "\n",
       "                                                          44  \\\n",
       "Feedback   Font size is too small on some informational p...   \n",
       "Sentiment                                           Negative   \n",
       "\n",
       "                                                          19  \n",
       "Feedback   The step-by-step guide for applying was perfec...  \n",
       "Sentiment                                           Positive  "
      ]
     },
     "execution_count": 4,
     "metadata": {},
     "output_type": "execute_result"
    }
   ],
   "source": [
    "# Look at a few randomly selected examples\n",
    "data.sample(3).T"
   ]
  },
  {
   "cell_type": "code",
   "execution_count": 5,
   "metadata": {},
   "outputs": [
    {
     "data": {
      "text/plain": [
       "Sentiment\n",
       "Negative    27\n",
       "Positive    24\n",
       "Name: count, dtype: int64"
      ]
     },
     "execution_count": 5,
     "metadata": {},
     "output_type": "execute_result"
    }
   ],
   "source": [
    "# Check Sentiment distribution\n",
    "data[\"Sentiment\"].value_counts()\n"
   ]
  },
  {
   "cell_type": "markdown",
   "metadata": {},
   "source": [
    "In the provided fictional dataset positive and negative sentiment labels are represented fairly equally."
   ]
  },
  {
   "cell_type": "code",
   "execution_count": 6,
   "metadata": {},
   "outputs": [
    {
     "data": {
      "text/plain": [
       "<Axes: xlabel='feedback_length', ylabel='Count'>"
      ]
     },
     "execution_count": 6,
     "metadata": {},
     "output_type": "execute_result"
    },
    {
     "data": {
      "image/png": "[encoded data removed]",
      "text/plain": [
       "<Figure size 640x480 with 1 Axes>"
      ]
     },
     "metadata": {},
     "output_type": "display_data"
    }
   ],
   "source": [
    "# Check distribution of feedback length\n",
    "data['feedback_length'] = data['Feedback'].str.len()\n",
    "\n",
    "# Plot the distribution of feedback lengths broken down by sentiment type\n",
    "sns.histplot(data=data, x='feedback_length', hue='Sentiment', multiple='stack')"
   ]
  },
  {
   "cell_type": "code",
   "execution_count": 7,
   "metadata": {},
   "outputs": [
    {
     "name": "stdout",
     "output_type": "stream",
     "text": [
      "The median length of feedback is 68.0 \n",
      "For negative feedback this values is 72.0 characters\n",
      "For positive feedback the median length of feedback is 64.5 characters\n"
     ]
    }
   ],
   "source": [
    "print(f'The median length of feedback is {data[\"feedback_length\"].median()} ')\n",
    "print(f'For negative feedback this values is {data[data[\"Sentiment\"]== \"Negative\"][\"feedback_length\"].median()} characters')\n",
    "print(f'For positive feedback the median length of feedback is {data[data[\"Sentiment\"]== \"Positive\"][\"feedback_length\"].median()} characters')"
   ]
  },
  {
   "cell_type": "markdown",
   "metadata": {},
   "source": [
    "Positive feedback appears to be longer than negative. At the same time there are outliers for negative feedback that are noticeably longer."
   ]
  },
  {
   "cell_type": "markdown",
   "metadata": {},
   "source": [
    "## Section 2: Data augmentation"
   ]
  },
  {
   "cell_type": "markdown",
   "metadata": {},
   "source": [
    "### Data pre-processing"
   ]
  },
  {
   "cell_type": "markdown",
   "metadata": {},
   "source": [
    "From initial exploration of the dataset I identified some issues that make it necessary to clean and pre-process the data:\n",
    "* Duplicated feedback entries. These entries need to be removed so that they do not skew sentiment distribution.\n",
    "* Presence of potentially personally identifiable information (PII) in the form of phone numbers and emails. PII needs to be masked to avoid disclosure and protect users' privacy.\n",
    "* Presence of irrelevant entries, such as spam. These entries need to be filtered out as they do not represent user feedback.\n",
    "\n",
    "To address these issues, I have taken the following pre-processing steps:\n",
    "* Removed duplicates\n",
    "* Detected and masked potential PII based on patterns (special characters that indicate emails, series of numeric characters resembling phone numbers, capitalisation patterns that might refer to names)\n",
    "* Flagged potential spam based on patterns (presence of urls, atypical capitalisation)\n",
    "\n",
    "Also, to address potential issues with data quality coming from web sources, I have also removed punctuation, standardised whitespaces, checked for encoding issues and converted text to lower case.\n",
    "\n",
    "To ensure readability of the notebook and in line with best practice of writing modular code, I have put most of the pre-processing code into the `text_cleaning` module. The module is included in the `theme_explorer` git repo folder attached to this submission."
   ]
  },
  {
   "cell_type": "code",
   "execution_count": 8,
   "metadata": {},
   "outputs": [],
   "source": [
    "data[\"clean_feedback\"] = clean_text(data[\"Feedback\"])"
   ]
  },
  {
   "cell_type": "code",
   "execution_count": 9,
   "metadata": {},
   "outputs": [],
   "source": [
    "data[\"spam_flag\"] = flag_spam_content(data[\"Feedback\"])"
   ]
  },
  {
   "cell_type": "code",
   "execution_count": 10,
   "metadata": {},
   "outputs": [
    {
     "data": {
      "text/plain": [
       "Feedback           BUY CHEAP DRUGS ONLINE NOW www.fakepharma.biz\n",
       "Sentiment                                               Negative\n",
       "feedback_length                                               45\n",
       "clean_feedback     buy cheap drugs online now www fakepharma biz\n",
       "spam_flag                                                   True\n",
       "Name: 48, dtype: object"
      ]
     },
     "execution_count": 10,
     "metadata": {},
     "output_type": "execute_result"
    }
   ],
   "source": [
    "# Check known spam entry\n",
    "data.loc[48]"
   ]
  },
  {
   "cell_type": "code",
   "execution_count": 11,
   "metadata": {},
   "outputs": [],
   "source": [
    "# Filter out spam entries and duplicates\n",
    "data = data[~data[\"spam_flag\"]]\n",
    "data = data.drop_duplicates(subset=[\"Feedback\"])"
   ]
  },
  {
   "cell_type": "markdown",
   "metadata": {},
   "source": [
    "### Data augmentation\n",
    "\n",
    "For data augmentation I used Claude Large Language Model (LLM) to programmatically generate synthetic data using an API. \n",
    "\n",
    "This involved:\n",
    "* Defining prompt template (see `src/theme_explorer/llm/prompt_synthetic.py`). This enables editing prompts in a systematic way.\n",
    "* Specifying requirements for the LLM output using Pydantic (see `src/theme_explorer/llm/synthetic_response.py`). Having a data model for the LLM response helps to ensure that LLM output is returned in a structured format for subsequent processing.\n",
    "* Defining a function to prepare and send the prompt and additional information to LLM (see `src/theme_explorer/llm/llm_synthetic.py`)\n",
    "\n",
    "LLM prompt includes pairs of feedback with negative and positive sentiment. This is done as part of few shot prompting to make LLM-generated data more realistic. \n"
   ]
  },
  {
   "cell_type": "code",
   "execution_count": 12,
   "metadata": {},
   "outputs": [],
   "source": [
    "concept_definitions = \"\"\"'Feedback' is a response from the user of a web-site or an app describing their experience. \n",
    "It contains on average one short sentence (70 characters).\n",
    "'Sentiment' is a label referring to the sentiment of the feedback. It can be Negative or Positive'. \"\"\""
   ]
  },
  {
   "cell_type": "code",
   "execution_count": 13,
   "metadata": {},
   "outputs": [],
   "source": [
    "# List of positive examples as a dict\n",
    "positive_examples = data[data[\"Sentiment\"] == \"Positive\"].to_dict(orient=\"records\")\n",
    "negative_examples = data[data[\"Sentiment\"] == \"Negative\"].to_dict(orient=\"records\")"
   ]
  },
  {
   "cell_type": "code",
   "execution_count": 14,
   "metadata": {},
   "outputs": [
    {
     "name": "stderr",
     "output_type": "stream",
     "text": [
      "/Users/jdjumalieva/theme_explorer/src/theme_explorer/llm/llm_synthetic.py:62: LangChainDeprecationWarning: The class `LLMChain` was deprecated in LangChain 0.1.17 and will be removed in 1.0. Use :meth:`~RunnableSequence, e.g., `prompt | llm`` instead.\n",
      "  chain = LLMChain(llm=self.llm, prompt=self.prompt)\n"
     ]
    }
   ],
   "source": [
    "survey = SyntheticSurvey(model_name=\"claude-sonnet-4-20250514\")\n",
    "\n",
    "example_pairs = list(zip(positive_examples, negative_examples))\n",
    "\n",
    "response_dfs = []\n",
    "for i, pair in enumerate(example_pairs):\n",
    "    responses = survey.get_synthetic_response(\n",
    "        concept1=\"user feedback\",\n",
    "        concept2=\"sentiment\", \n",
    "        definitions=concept_definitions,\n",
    "        examples=pair, \n",
    "        instructions=\"Generate 10 new user feedback responses with sentiment labels\",\n",
    "    )\n",
    "    \n",
    "    time.sleep(10)  # Wait to avoid rate limiting\n",
    "    \n",
    "    # Convert response to dictionary and create a DataFrame\n",
    "    response_data = [{\"feedback\": item.feedback, \"sentiment\": item.sentiment} for item in responses.responses]\n",
    "    response_dfs.append(pd.DataFrame(response_data))\n",
    "    "
   ]
  },
  {
   "cell_type": "code",
   "execution_count": 15,
   "metadata": {},
   "outputs": [
    {
     "name": "stdout",
     "output_type": "stream",
     "text": [
      "Here are 10 sample feedback items\n",
      "Feedback: Navigation menu is confusing and hard to find what I need\n",
      "Sentiment: Negative\n",
      "---\n",
      "Feedback: Love the clean design and intuitive layout!\n",
      "Sentiment: Positive\n",
      "---\n",
      "Feedback: Site loads super fast, great performance overall\n",
      "Sentiment: Positive\n",
      "---\n",
      "Feedback: Text is too small and difficult to read on mobile\n",
      "Sentiment: Negative\n",
      "---\n",
      "Feedback: Search function works perfectly and finds exactly what I want\n",
      "Sentiment: Positive\n",
      "---\n"
     ]
    }
   ],
   "source": [
    "# Now responses is a SyntheticResponse object\n",
    "print(f\"Here are {len(responses.responses)} sample feedback items\")\n",
    "\n",
    "# Access individual feedback items\n",
    "for item in responses.responses[:5]:\n",
    "    print(f\"Feedback: {item.feedback}\")\n",
    "    print(f\"Sentiment: {item.sentiment}\")\n",
    "    print(\"---\")"
   ]
  },
  {
   "cell_type": "code",
   "execution_count": 16,
   "metadata": {},
   "outputs": [],
   "source": [
    "synthetic_df = pd.concat(response_dfs)"
   ]
  },
  {
   "cell_type": "code",
   "execution_count": 17,
   "metadata": {},
   "outputs": [
    {
     "data": {
      "text/html": [
       "<div>\n",
       "<style scoped>\n",
       "    .dataframe tbody tr th:only-of-type {\n",
       "        vertical-align: middle;\n",
       "    }\n",
       "\n",
       "    .dataframe tbody tr th {\n",
       "        vertical-align: top;\n",
       "    }\n",
       "\n",
       "    .dataframe thead th {\n",
       "        text-align: right;\n",
       "    }\n",
       "</style>\n",
       "<table border=\"1\" class=\"dataframe\">\n",
       "  <thead>\n",
       "    <tr style=\"text-align: right;\">\n",
       "      <th></th>\n",
       "      <th>feedback</th>\n",
       "      <th>sentiment</th>\n",
       "    </tr>\n",
       "  </thead>\n",
       "  <tbody>\n",
       "    <tr>\n",
       "      <th>count</th>\n",
       "      <td>240</td>\n",
       "      <td>240</td>\n",
       "    </tr>\n",
       "    <tr>\n",
       "      <th>unique</th>\n",
       "      <td>227</td>\n",
       "      <td>2</td>\n",
       "    </tr>\n",
       "    <tr>\n",
       "      <th>top</th>\n",
       "      <td>The navigation menu is confusing and hard to f...</td>\n",
       "      <td>Positive</td>\n",
       "    </tr>\n",
       "    <tr>\n",
       "      <th>freq</th>\n",
       "      <td>3</td>\n",
       "      <td>120</td>\n",
       "    </tr>\n",
       "  </tbody>\n",
       "</table>\n",
       "</div>"
      ],
      "text/plain": [
       "                                                 feedback sentiment\n",
       "count                                                 240       240\n",
       "unique                                                227         2\n",
       "top     The navigation menu is confusing and hard to f...  Positive\n",
       "freq                                                    3       120"
      ]
     },
     "execution_count": 17,
     "metadata": {},
     "output_type": "execute_result"
    }
   ],
   "source": [
    "synthetic_df.describe()"
   ]
  },
  {
   "cell_type": "markdown",
   "metadata": {},
   "source": [
    "There are a few duplicated entries in the synthetic dataset."
   ]
  },
  {
   "cell_type": "code",
   "execution_count": 18,
   "metadata": {},
   "outputs": [
    {
     "data": {
      "text/plain": [
       "sentiment\n",
       "Positive    120\n",
       "Negative    120\n",
       "Name: count, dtype: int64"
      ]
     },
     "execution_count": 18,
     "metadata": {},
     "output_type": "execute_result"
    }
   ],
   "source": [
    "synthetic_df[\"sentiment\"].value_counts()"
   ]
  },
  {
   "cell_type": "markdown",
   "metadata": {},
   "source": [
    "Synthetic data maintains balance between negative and positive sentiment labels."
   ]
  },
  {
   "cell_type": "code",
   "execution_count": 19,
   "metadata": {},
   "outputs": [
    {
     "data": {
      "text/plain": [
       "<Axes: xlabel='feedback_length', ylabel='Count'>"
      ]
     },
     "execution_count": 19,
     "metadata": {},
     "output_type": "execute_result"
    },
    {
     "data": {
      "image/png": "[encoded data removed]",
      "text/plain": [
       "<Figure size 640x480 with 1 Axes>"
      ]
     },
     "metadata": {},
     "output_type": "display_data"
    }
   ],
   "source": [
    "# Check distribution of feedback length\n",
    "synthetic_df['feedback_length'] = synthetic_df['feedback'].str.len()\n",
    "\n",
    "# Plot the distribution of feedback lengths broken down by sentiment type\n",
    "sns.histplot(data=synthetic_df, x='feedback_length', hue='sentiment', multiple='stack')"
   ]
  },
  {
   "cell_type": "code",
   "execution_count": 20,
   "metadata": {},
   "outputs": [
    {
     "name": "stdout",
     "output_type": "stream",
     "text": [
      "The median length of synthetic feedback is 62.0 \n",
      "For negative feedback this values is 61.0 characters\n",
      "For positive feedback the median length of feedback is 62.0 characters\n"
     ]
    }
   ],
   "source": [
    "print(f'The median length of synthetic feedback is {synthetic_df[\"feedback_length\"].median()} ')\n",
    "print(f'For negative feedback this values is {synthetic_df[synthetic_df[\"sentiment\"]== \"Negative\"][\"feedback_length\"].median()} characters')\n",
    "print(f'For positive feedback the median length of feedback is {synthetic_df[synthetic_df[\"sentiment\"]== \"Positive\"][\"feedback_length\"].median()} characters')"
   ]
  },
  {
   "cell_type": "markdown",
   "metadata": {},
   "source": [
    "While synthetic data has a similar distribution of feedback length across sentiment, more work is needed to check that synthetic data is not materially different from the original dataset."
   ]
  },
  {
   "cell_type": "code",
   "execution_count": 21,
   "metadata": {},
   "outputs": [],
   "source": [
    "synthetic_df.to_csv(\"../outputs/synthetic_feedback_data_2025-06-14.csv\", index=False)"
   ]
  },
  {
   "cell_type": "markdown",
   "metadata": {},
   "source": [
    "## Section 3: Detecting themes in user feedback\n",
    "\n",
    "Once we have accumulated a larger dataset of user feedback, we can start exploring possible themes.\n",
    "\n",
    "Below are some examples of analysis that we could perform for this purpose."
   ]
  },
  {
   "cell_type": "markdown",
   "metadata": {},
   "source": [
    "### Example 1: Identifying top terms across negative and positive feedback\n",
    "\n",
    "In this example I use very simple counts of common terms across negative and positive feedback."
   ]
  },
  {
   "cell_type": "code",
   "execution_count": 22,
   "metadata": {},
   "outputs": [],
   "source": [
    "data.rename(columns={\"Feedback\": \"feedback\", \"Sentiment\": \"sentiment\"}, inplace=True)"
   ]
  },
  {
   "cell_type": "code",
   "execution_count": 23,
   "metadata": {},
   "outputs": [],
   "source": [
    "synthetic_df[\"clean_feedback\"] = clean_text(synthetic_df[\"feedback\"])"
   ]
  },
  {
   "cell_type": "code",
   "execution_count": 24,
   "metadata": {},
   "outputs": [],
   "source": [
    "# Combine original data and synthetic data\n",
    "combined_data = pd.concat([data[[\"feedback\", \"sentiment\", \"clean_feedback\"]], synthetic_df], ignore_index=True)"
   ]
  },
  {
   "cell_type": "code",
   "execution_count": 25,
   "metadata": {},
   "outputs": [],
   "source": [
    "combined_data = combined_data.drop_duplicates(subset=[\"feedback\"])"
   ]
  },
  {
   "cell_type": "code",
   "execution_count": 26,
   "metadata": {},
   "outputs": [],
   "source": [
    "vectorizer = CountVectorizer(ngram_range=(1,2), stop_words='english')\n",
    "counts = vectorizer.fit(combined_data[\"clean_feedback\"])"
   ]
  },
  {
   "cell_type": "code",
   "execution_count": 27,
   "metadata": {},
   "outputs": [],
   "source": [
    "# Identify most frequent ngrams in counts\n",
    "positive_feedback = combined_data[combined_data[\"sentiment\"] == \"Positive\"]\n",
    "negative_feedback = combined_data[combined_data[\"sentiment\"] == \"Negative\"]\n",
    "top_ngrams_pos = pd.DataFrame(counts.transform(positive_feedback[\"clean_feedback\"]).toarray(), \n",
    "                          columns=counts.get_feature_names_out()).sum().sort_values(ascending=False).head(25)\n",
    "top_ngrams_neg = pd.DataFrame(counts.transform(negative_feedback[\"clean_feedback\"]).toarray(),\n",
    "                            columns=counts.get_feature_names_out()).sum().sort_values(ascending=False).head(25)"
   ]
  },
  {
   "cell_type": "code",
   "execution_count": 28,
   "metadata": {},
   "outputs": [
    {
     "data": {
      "image/png": "[encoded data removed]",
      "text/plain": [
       "<Figure size 800x600 with 1 Axes>"
      ]
     },
     "metadata": {},
     "output_type": "display_data"
    }
   ],
   "source": [
    "# Plot most popular 25 ngrams in positive feedback\n",
    "fig, ax = plt.subplots(figsize = (8,6))\n",
    "ax = sns.barplot(x=top_ngrams_pos.values, y=top_ngrams_pos.index)\n",
    "ax.set_title(\"Top 25 ngrams in positive feedback\")\n",
    "plt.savefig(\"../outputs/top_ngrams_pos.png\")"
   ]
  },
  {
   "cell_type": "markdown",
   "metadata": {},
   "source": [
    "Reviewing top terms in positive feedback can help us understand aspects of user experience that work well (e.g. 'search', 'design`)."
   ]
  },
  {
   "cell_type": "code",
   "execution_count": 29,
   "metadata": {},
   "outputs": [
    {
     "data": {
      "image/png": "[encoded data removed]",
      "text/plain": [
       "<Figure size 800x600 with 1 Axes>"
      ]
     },
     "metadata": {},
     "output_type": "display_data"
    }
   ],
   "source": [
    "# Plot most popular 25 ngrams in negative feedback\n",
    "fig, ax = plt.subplots(figsize = (8,6))\n",
    "ax = sns.barplot(x=top_ngrams_neg.values, y=top_ngrams_neg.index)\n",
    "ax.set_title(\"Top 25 ngrams in negative feedback\")\n",
    "plt.savefig(\"../outputs/top_ngrams_neg.png\")"
   ]
  },
  {
   "cell_type": "markdown",
   "metadata": {},
   "source": [
    "Similarly, looking at top terms in negative feedback enables us to spot potential issues (e.g. 'navigation menu', 'text small')"
   ]
  },
  {
   "cell_type": "markdown",
   "metadata": {},
   "source": [
    "### Example 2: Cluster feedback\n",
    "\n",
    "In this example, we embed feedback sentences using `sentence-transformers` package, cluster them using HDBSCAN method and then visualise clusters using UMAP 2-d projections."
   ]
  },
  {
   "cell_type": "code",
   "execution_count": 30,
   "metadata": {},
   "outputs": [],
   "source": [
    "model = SentenceTransformer(\"paraphrase-MiniLM-L6-v2\")"
   ]
  },
  {
   "cell_type": "code",
   "execution_count": 31,
   "metadata": {},
   "outputs": [
    {
     "name": "stderr",
     "output_type": "stream",
     "text": [
      "/Users/jdjumalieva/theme_explorer/.venv/lib/python3.12/site-packages/sklearn/utils/deprecation.py:132: FutureWarning: 'force_all_finite' was renamed to 'ensure_all_finite' in 1.6 and will be removed in 1.8.\n",
      "  warnings.warn(\n",
      "/Users/jdjumalieva/theme_explorer/.venv/lib/python3.12/site-packages/umap/umap_.py:1952: UserWarning: n_jobs value 1 overridden to 1 by setting random_state. Use no seed for parallelism.\n",
      "  warn(\n"
     ]
    }
   ],
   "source": [
    "feedback_embeddings = model.encode(list(combined_data[\"clean_feedback\"]),)\n",
    "\n",
    "reducer = umap.UMAP(n_components = 2, random_state =1)\n",
    "feedback_embeddings_2d = reducer.fit_transform(feedback_embeddings)"
   ]
  },
  {
   "cell_type": "code",
   "execution_count": 32,
   "metadata": {},
   "outputs": [
    {
     "name": "stderr",
     "output_type": "stream",
     "text": [
      "/Users/jdjumalieva/theme_explorer/.venv/lib/python3.12/site-packages/sklearn/utils/deprecation.py:132: FutureWarning: 'force_all_finite' was renamed to 'ensure_all_finite' in 1.6 and will be removed in 1.8.\n",
      "  warnings.warn(\n",
      "/Users/jdjumalieva/theme_explorer/.venv/lib/python3.12/site-packages/umap/umap_.py:1952: UserWarning: n_jobs value 1 overridden to 1 by setting random_state. Use no seed for parallelism.\n",
      "  warn(\n"
     ]
    }
   ],
   "source": [
    "# Low dim embeddings\n",
    "reducer_clustering = umap.UMAP(n_components = 20, random_state =1)\n",
    "feedback_embeddings_clustering = reducer_clustering.fit_transform(feedback_embeddings)"
   ]
  },
  {
   "cell_type": "code",
   "execution_count": 33,
   "metadata": {},
   "outputs": [],
   "source": [
    "# Df for altair plotting\n",
    "col_df = pd.DataFrame({\n",
    "    'feedback': list(combined_data[\"clean_feedback\"]),\n",
    "    'x': feedback_embeddings_2d[:, 0],\n",
    "    'y': feedback_embeddings_2d[:, 1],\n",
    "\n",
    "    })"
   ]
  },
  {
   "cell_type": "code",
   "execution_count": 34,
   "metadata": {},
   "outputs": [
    {
     "name": "stderr",
     "output_type": "stream",
     "text": [
      "/Users/jdjumalieva/theme_explorer/.venv/lib/python3.12/site-packages/sklearn/utils/deprecation.py:132: FutureWarning: 'force_all_finite' was renamed to 'ensure_all_finite' in 1.6 and will be removed in 1.8.\n",
      "  warnings.warn(\n",
      "/Users/jdjumalieva/theme_explorer/.venv/lib/python3.12/site-packages/sklearn/utils/deprecation.py:132: FutureWarning: 'force_all_finite' was renamed to 'ensure_all_finite' in 1.6 and will be removed in 1.8.\n",
      "  warnings.warn(\n"
     ]
    },
    {
     "data": {
      "text/html": [
       "<style>#sk-container-id-1 {\n",
       "  /* Definition of color scheme common for light and dark mode */\n",
       "  --sklearn-color-text: #000;\n",
       "  --sklearn-color-text-muted: #666;\n",
       "  --sklearn-color-line: gray;\n",
       "  /* Definition of color scheme for unfitted estimators */\n",
       "  --sklearn-color-unfitted-level-0: #fff5e6;\n",
       "  --sklearn-color-unfitted-level-1: #f6e4d2;\n",
       "  --sklearn-color-unfitted-level-2: #ffe0b3;\n",
       "  --sklearn-color-unfitted-level-3: chocolate;\n",
       "  /* Definition of color scheme for fitted estimators */\n",
       "  --sklearn-color-fitted-level-0: #f0f8ff;\n",
       "  --sklearn-color-fitted-level-1: #d4ebff;\n",
       "  --sklearn-color-fitted-level-2: #b3dbfd;\n",
       "  --sklearn-color-fitted-level-3: cornflowerblue;\n",
       "\n",
       "  /* Specific color for light theme */\n",
       "  --sklearn-color-text-on-default-background: var(--sg-text-color, var(--theme-code-foreground, var(--jp-content-font-color1, black)));\n",
       "  --sklearn-color-background: var(--sg-background-color, var(--theme-background, var(--jp-layout-color0, white)));\n",
       "  --sklearn-color-border-box: var(--sg-text-color, var(--theme-code-foreground, var(--jp-content-font-color1, black)));\n",
       "  --sklearn-color-icon: #696969;\n",
       "\n",
       "  @media (prefers-color-scheme: dark) {\n",
       "    /* Redefinition of color scheme for dark theme */\n",
       "    --sklearn-color-text-on-default-background: var(--sg-text-color, var(--theme-code-foreground, var(--jp-content-font-color1, white)));\n",
       "    --sklearn-color-background: var(--sg-background-color, var(--theme-background, var(--jp-layout-color0, #111)));\n",
       "    --sklearn-color-border-box: var(--sg-text-color, var(--theme-code-foreground, var(--jp-content-font-color1, white)));\n",
       "    --sklearn-color-icon: #878787;\n",
       "  }\n",
       "}\n",
       "\n",
       "#sk-container-id-1 {\n",
       "  color: var(--sklearn-color-text);\n",
       "}\n",
       "\n",
       "#sk-container-id-1 pre {\n",
       "  padding: 0;\n",
       "}\n",
       "\n",
       "#sk-container-id-1 input.sk-hidden--visually {\n",
       "  border: 0;\n",
       "  clip: rect(1px 1px 1px 1px);\n",
       "  clip: rect(1px, 1px, 1px, 1px);\n",
       "  height: 1px;\n",
       "  margin: -1px;\n",
       "  overflow: hidden;\n",
       "  padding: 0;\n",
       "  position: absolute;\n",
       "  width: 1px;\n",
       "}\n",
       "\n",
       "#sk-container-id-1 div.sk-dashed-wrapped {\n",
       "  border: 1px dashed var(--sklearn-color-line);\n",
       "  margin: 0 0.4em 0.5em 0.4em;\n",
       "  box-sizing: border-box;\n",
       "  padding-bottom: 0.4em;\n",
       "  background-color: var(--sklearn-color-background);\n",
       "}\n",
       "\n",
       "#sk-container-id-1 div.sk-container {\n",
       "  /* jupyter's `normalize.less` sets `[hidden] { display: none; }`\n",
       "     but bootstrap.min.css set `[hidden] { display: none !important; }`\n",
       "     so we also need the `!important` here to be able to override the\n",
       "     default hidden behavior on the sphinx rendered scikit-learn.org.\n",
       "     See: https://github.com/scikit-learn/scikit-learn/issues/21755 */\n",
       "  display: inline-block !important;\n",
       "  position: relative;\n",
       "}\n",
       "\n",
       "#sk-container-id-1 div.sk-text-repr-fallback {\n",
       "  display: none;\n",
       "}\n",
       "\n",
       "div.sk-parallel-item,\n",
       "div.sk-serial,\n",
       "div.sk-item {\n",
       "  /* draw centered vertical line to link estimators */\n",
       "  background-image: linear-gradient(var(--sklearn-color-text-on-default-background), var(--sklearn-color-text-on-default-background));\n",
       "  background-size: 2px 100%;\n",
       "  background-repeat: no-repeat;\n",
       "  background-position: center center;\n",
       "}\n",
       "\n",
       "/* Parallel-specific style estimator block */\n",
       "\n",
       "#sk-container-id-1 div.sk-parallel-item::after {\n",
       "  content: \"\";\n",
       "  width: 100%;\n",
       "  border-bottom: 2px solid var(--sklearn-color-text-on-default-background);\n",
       "  flex-grow: 1;\n",
       "}\n",
       "\n",
       "#sk-container-id-1 div.sk-parallel {\n",
       "  display: flex;\n",
       "  align-items: stretch;\n",
       "  justify-content: center;\n",
       "  background-color: var(--sklearn-color-background);\n",
       "  position: relative;\n",
       "}\n",
       "\n",
       "#sk-container-id-1 div.sk-parallel-item {\n",
       "  display: flex;\n",
       "  flex-direction: column;\n",
       "}\n",
       "\n",
       "#sk-container-id-1 div.sk-parallel-item:first-child::after {\n",
       "  align-self: flex-end;\n",
       "  width: 50%;\n",
       "}\n",
       "\n",
       "#sk-container-id-1 div.sk-parallel-item:last-child::after {\n",
       "  align-self: flex-start;\n",
       "  width: 50%;\n",
       "}\n",
       "\n",
       "#sk-container-id-1 div.sk-parallel-item:only-child::after {\n",
       "  width: 0;\n",
       "}\n",
       "\n",
       "/* Serial-specific style estimator block */\n",
       "\n",
       "#sk-container-id-1 div.sk-serial {\n",
       "  display: flex;\n",
       "  flex-direction: column;\n",
       "  align-items: center;\n",
       "  background-color: var(--sklearn-color-background);\n",
       "  padding-right: 1em;\n",
       "  padding-left: 1em;\n",
       "}\n",
       "\n",
       "\n",
       "/* Toggleable style: style used for estimator/Pipeline/ColumnTransformer box that is\n",
       "clickable and can be expanded/collapsed.\n",
       "- Pipeline and ColumnTransformer use this feature and define the default style\n",
       "- Estimators will overwrite some part of the style using the `sk-estimator` class\n",
       "*/\n",
       "\n",
       "/* Pipeline and ColumnTransformer style (default) */\n",
       "\n",
       "#sk-container-id-1 div.sk-toggleable {\n",
       "  /* Default theme specific background. It is overwritten whether we have a\n",
       "  specific estimator or a Pipeline/ColumnTransformer */\n",
       "  background-color: var(--sklearn-color-background);\n",
       "}\n",
       "\n",
       "/* Toggleable label */\n",
       "#sk-container-id-1 label.sk-toggleable__label {\n",
       "  cursor: pointer;\n",
       "  display: flex;\n",
       "  width: 100%;\n",
       "  margin-bottom: 0;\n",
       "  padding: 0.5em;\n",
       "  box-sizing: border-box;\n",
       "  text-align: center;\n",
       "  align-items: start;\n",
       "  justify-content: space-between;\n",
       "  gap: 0.5em;\n",
       "}\n",
       "\n",
       "#sk-container-id-1 label.sk-toggleable__label .caption {\n",
       "  font-size: 0.6rem;\n",
       "  font-weight: lighter;\n",
       "  color: var(--sklearn-color-text-muted);\n",
       "}\n",
       "\n",
       "#sk-container-id-1 label.sk-toggleable__label-arrow:before {\n",
       "  /* Arrow on the left of the label */\n",
       "  content: \"▸\";\n",
       "  float: left;\n",
       "  margin-right: 0.25em;\n",
       "  color: var(--sklearn-color-icon);\n",
       "}\n",
       "\n",
       "#sk-container-id-1 label.sk-toggleable__label-arrow:hover:before {\n",
       "  color: var(--sklearn-color-text);\n",
       "}\n",
       "\n",
       "/* Toggleable content - dropdown */\n",
       "\n",
       "#sk-container-id-1 div.sk-toggleable__content {\n",
       "  display: none;\n",
       "  text-align: left;\n",
       "  /* unfitted */\n",
       "  background-color: var(--sklearn-color-unfitted-level-0);\n",
       "}\n",
       "\n",
       "#sk-container-id-1 div.sk-toggleable__content.fitted {\n",
       "  /* fitted */\n",
       "  background-color: var(--sklearn-color-fitted-level-0);\n",
       "}\n",
       "\n",
       "#sk-container-id-1 div.sk-toggleable__content pre {\n",
       "  margin: 0.2em;\n",
       "  border-radius: 0.25em;\n",
       "  color: var(--sklearn-color-text);\n",
       "  /* unfitted */\n",
       "  background-color: var(--sklearn-color-unfitted-level-0);\n",
       "}\n",
       "\n",
       "#sk-container-id-1 div.sk-toggleable__content.fitted pre {\n",
       "  /* unfitted */\n",
       "  background-color: var(--sklearn-color-fitted-level-0);\n",
       "}\n",
       "\n",
       "#sk-container-id-1 input.sk-toggleable__control:checked~div.sk-toggleable__content {\n",
       "  /* Expand drop-down */\n",
       "  display: block;\n",
       "  width: 100%;\n",
       "  overflow: visible;\n",
       "}\n",
       "\n",
       "#sk-container-id-1 input.sk-toggleable__control:checked~label.sk-toggleable__label-arrow:before {\n",
       "  content: \"▾\";\n",
       "}\n",
       "\n",
       "/* Pipeline/ColumnTransformer-specific style */\n",
       "\n",
       "#sk-container-id-1 div.sk-label input.sk-toggleable__control:checked~label.sk-toggleable__label {\n",
       "  color: var(--sklearn-color-text);\n",
       "  background-color: var(--sklearn-color-unfitted-level-2);\n",
       "}\n",
       "\n",
       "#sk-container-id-1 div.sk-label.fitted input.sk-toggleable__control:checked~label.sk-toggleable__label {\n",
       "  background-color: var(--sklearn-color-fitted-level-2);\n",
       "}\n",
       "\n",
       "/* Estimator-specific style */\n",
       "\n",
       "/* Colorize estimator box */\n",
       "#sk-container-id-1 div.sk-estimator input.sk-toggleable__control:checked~label.sk-toggleable__label {\n",
       "  /* unfitted */\n",
       "  background-color: var(--sklearn-color-unfitted-level-2);\n",
       "}\n",
       "\n",
       "#sk-container-id-1 div.sk-estimator.fitted input.sk-toggleable__control:checked~label.sk-toggleable__label {\n",
       "  /* fitted */\n",
       "  background-color: var(--sklearn-color-fitted-level-2);\n",
       "}\n",
       "\n",
       "#sk-container-id-1 div.sk-label label.sk-toggleable__label,\n",
       "#sk-container-id-1 div.sk-label label {\n",
       "  /* The background is the default theme color */\n",
       "  color: var(--sklearn-color-text-on-default-background);\n",
       "}\n",
       "\n",
       "/* On hover, darken the color of the background */\n",
       "#sk-container-id-1 div.sk-label:hover label.sk-toggleable__label {\n",
       "  color: var(--sklearn-color-text);\n",
       "  background-color: var(--sklearn-color-unfitted-level-2);\n",
       "}\n",
       "\n",
       "/* Label box, darken color on hover, fitted */\n",
       "#sk-container-id-1 div.sk-label.fitted:hover label.sk-toggleable__label.fitted {\n",
       "  color: var(--sklearn-color-text);\n",
       "  background-color: var(--sklearn-color-fitted-level-2);\n",
       "}\n",
       "\n",
       "/* Estimator label */\n",
       "\n",
       "#sk-container-id-1 div.sk-label label {\n",
       "  font-family: monospace;\n",
       "  font-weight: bold;\n",
       "  display: inline-block;\n",
       "  line-height: 1.2em;\n",
       "}\n",
       "\n",
       "#sk-container-id-1 div.sk-label-container {\n",
       "  text-align: center;\n",
       "}\n",
       "\n",
       "/* Estimator-specific */\n",
       "#sk-container-id-1 div.sk-estimator {\n",
       "  font-family: monospace;\n",
       "  border: 1px dotted var(--sklearn-color-border-box);\n",
       "  border-radius: 0.25em;\n",
       "  box-sizing: border-box;\n",
       "  margin-bottom: 0.5em;\n",
       "  /* unfitted */\n",
       "  background-color: var(--sklearn-color-unfitted-level-0);\n",
       "}\n",
       "\n",
       "#sk-container-id-1 div.sk-estimator.fitted {\n",
       "  /* fitted */\n",
       "  background-color: var(--sklearn-color-fitted-level-0);\n",
       "}\n",
       "\n",
       "/* on hover */\n",
       "#sk-container-id-1 div.sk-estimator:hover {\n",
       "  /* unfitted */\n",
       "  background-color: var(--sklearn-color-unfitted-level-2);\n",
       "}\n",
       "\n",
       "#sk-container-id-1 div.sk-estimator.fitted:hover {\n",
       "  /* fitted */\n",
       "  background-color: var(--sklearn-color-fitted-level-2);\n",
       "}\n",
       "\n",
       "/* Specification for estimator info (e.g. \"i\" and \"?\") */\n",
       "\n",
       "/* Common style for \"i\" and \"?\" */\n",
       "\n",
       ".sk-estimator-doc-link,\n",
       "a:link.sk-estimator-doc-link,\n",
       "a:visited.sk-estimator-doc-link {\n",
       "  float: right;\n",
       "  font-size: smaller;\n",
       "  line-height: 1em;\n",
       "  font-family: monospace;\n",
       "  background-color: var(--sklearn-color-background);\n",
       "  border-radius: 1em;\n",
       "  height: 1em;\n",
       "  width: 1em;\n",
       "  text-decoration: none !important;\n",
       "  margin-left: 0.5em;\n",
       "  text-align: center;\n",
       "  /* unfitted */\n",
       "  border: var(--sklearn-color-unfitted-level-1) 1pt solid;\n",
       "  color: var(--sklearn-color-unfitted-level-1);\n",
       "}\n",
       "\n",
       ".sk-estimator-doc-link.fitted,\n",
       "a:link.sk-estimator-doc-link.fitted,\n",
       "a:visited.sk-estimator-doc-link.fitted {\n",
       "  /* fitted */\n",
       "  border: var(--sklearn-color-fitted-level-1) 1pt solid;\n",
       "  color: var(--sklearn-color-fitted-level-1);\n",
       "}\n",
       "\n",
       "/* On hover */\n",
       "div.sk-estimator:hover .sk-estimator-doc-link:hover,\n",
       ".sk-estimator-doc-link:hover,\n",
       "div.sk-label-container:hover .sk-estimator-doc-link:hover,\n",
       ".sk-estimator-doc-link:hover {\n",
       "  /* unfitted */\n",
       "  background-color: var(--sklearn-color-unfitted-level-3);\n",
       "  color: var(--sklearn-color-background);\n",
       "  text-decoration: none;\n",
       "}\n",
       "\n",
       "div.sk-estimator.fitted:hover .sk-estimator-doc-link.fitted:hover,\n",
       ".sk-estimator-doc-link.fitted:hover,\n",
       "div.sk-label-container:hover .sk-estimator-doc-link.fitted:hover,\n",
       ".sk-estimator-doc-link.fitted:hover {\n",
       "  /* fitted */\n",
       "  background-color: var(--sklearn-color-fitted-level-3);\n",
       "  color: var(--sklearn-color-background);\n",
       "  text-decoration: none;\n",
       "}\n",
       "\n",
       "/* Span, style for the box shown on hovering the info icon */\n",
       ".sk-estimator-doc-link span {\n",
       "  display: none;\n",
       "  z-index: 9999;\n",
       "  position: relative;\n",
       "  font-weight: normal;\n",
       "  right: .2ex;\n",
       "  padding: .5ex;\n",
       "  margin: .5ex;\n",
       "  width: min-content;\n",
       "  min-width: 20ex;\n",
       "  max-width: 50ex;\n",
       "  color: var(--sklearn-color-text);\n",
       "  box-shadow: 2pt 2pt 4pt #999;\n",
       "  /* unfitted */\n",
       "  background: var(--sklearn-color-unfitted-level-0);\n",
       "  border: .5pt solid var(--sklearn-color-unfitted-level-3);\n",
       "}\n",
       "\n",
       ".sk-estimator-doc-link.fitted span {\n",
       "  /* fitted */\n",
       "  background: var(--sklearn-color-fitted-level-0);\n",
       "  border: var(--sklearn-color-fitted-level-3);\n",
       "}\n",
       "\n",
       ".sk-estimator-doc-link:hover span {\n",
       "  display: block;\n",
       "}\n",
       "\n",
       "/* \"?\"-specific style due to the `<a>` HTML tag */\n",
       "\n",
       "#sk-container-id-1 a.estimator_doc_link {\n",
       "  float: right;\n",
       "  font-size: 1rem;\n",
       "  line-height: 1em;\n",
       "  font-family: monospace;\n",
       "  background-color: var(--sklearn-color-background);\n",
       "  border-radius: 1rem;\n",
       "  height: 1rem;\n",
       "  width: 1rem;\n",
       "  text-decoration: none;\n",
       "  /* unfitted */\n",
       "  color: var(--sklearn-color-unfitted-level-1);\n",
       "  border: var(--sklearn-color-unfitted-level-1) 1pt solid;\n",
       "}\n",
       "\n",
       "#sk-container-id-1 a.estimator_doc_link.fitted {\n",
       "  /* fitted */\n",
       "  border: var(--sklearn-color-fitted-level-1) 1pt solid;\n",
       "  color: var(--sklearn-color-fitted-level-1);\n",
       "}\n",
       "\n",
       "/* On hover */\n",
       "#sk-container-id-1 a.estimator_doc_link:hover {\n",
       "  /* unfitted */\n",
       "  background-color: var(--sklearn-color-unfitted-level-3);\n",
       "  color: var(--sklearn-color-background);\n",
       "  text-decoration: none;\n",
       "}\n",
       "\n",
       "#sk-container-id-1 a.estimator_doc_link.fitted:hover {\n",
       "  /* fitted */\n",
       "  background-color: var(--sklearn-color-fitted-level-3);\n",
       "}\n",
       "\n",
       ".estimator-table summary {\n",
       "    padding: .5rem;\n",
       "    font-family: monospace;\n",
       "    cursor: pointer;\n",
       "}\n",
       "\n",
       ".estimator-table details[open] {\n",
       "    padding-left: 0.1rem;\n",
       "    padding-right: 0.1rem;\n",
       "    padding-bottom: 0.3rem;\n",
       "}\n",
       "\n",
       ".estimator-table .parameters-table {\n",
       "    margin-left: auto !important;\n",
       "    margin-right: auto !important;\n",
       "}\n",
       "\n",
       ".estimator-table .parameters-table tr:nth-child(odd) {\n",
       "    background-color: #fff;\n",
       "}\n",
       "\n",
       ".estimator-table .parameters-table tr:nth-child(even) {\n",
       "    background-color: #f6f6f6;\n",
       "}\n",
       "\n",
       ".estimator-table .parameters-table tr:hover {\n",
       "    background-color: #e0e0e0;\n",
       "}\n",
       "\n",
       ".estimator-table table td {\n",
       "    border: 1px solid rgba(106, 105, 104, 0.232);\n",
       "}\n",
       "\n",
       ".user-set td {\n",
       "    color:rgb(255, 94, 0);\n",
       "    text-align: left;\n",
       "}\n",
       "\n",
       ".user-set td.value pre {\n",
       "    color:rgb(255, 94, 0) !important;\n",
       "    background-color: transparent !important;\n",
       "}\n",
       "\n",
       ".default td {\n",
       "    color: black;\n",
       "    text-align: left;\n",
       "}\n",
       "\n",
       ".user-set td i,\n",
       ".default td i {\n",
       "    color: black;\n",
       "}\n",
       "\n",
       ".copy-paste-icon {\n",
       "    background-image: url(data:image/svg+xml;base64,PHN2ZyB4bWxucz0iaHR0cDovL3d3dy53My5vcmcvMjAwMC9zdmciIHZpZXdCb3g9IjAgMCA0NDggNTEyIj48IS0tIUZvbnQgQXdlc29tZSBGcmVlIDYuNy4yIGJ5IEBmb250YXdlc29tZSAtIGh0dHBzOi8vZm9udGF3ZXNvbWUuY29tIExpY2Vuc2UgLSBodHRwczovL2ZvbnRhd2Vzb21lLmNvbS9saWNlbnNlL2ZyZWUgQ29weXJpZ2h0IDIwMjUgRm9udGljb25zLCBJbmMuLS0+PHBhdGggZD0iTTIwOCAwTDMzMi4xIDBjMTIuNyAwIDI0LjkgNS4xIDMzLjkgMTQuMWw2Ny45IDY3LjljOSA5IDE0LjEgMjEuMiAxNC4xIDMzLjlMNDQ4IDMzNmMwIDI2LjUtMjEuNSA0OC00OCA0OGwtMTkyIDBjLTI2LjUgMC00OC0yMS41LTQ4LTQ4bDAtMjg4YzAtMjYuNSAyMS41LTQ4IDQ4LTQ4ek00OCAxMjhsODAgMCAwIDY0LTY0IDAgMCAyNTYgMTkyIDAgMC0zMiA2NCAwIDAgNDhjMCAyNi41LTIxLjUgNDgtNDggNDhMNDggNTEyYy0yNi41IDAtNDgtMjEuNS00OC00OEwwIDE3NmMwLTI2LjUgMjEuNS00OCA0OC00OHoiLz48L3N2Zz4=);\n",
       "    background-repeat: no-repeat;\n",
       "    background-size: 14px 14px;\n",
       "    background-position: 0;\n",
       "    display: inline-block;\n",
       "    width: 14px;\n",
       "    height: 14px;\n",
       "    cursor: pointer;\n",
       "}\n",
       "</style><body><div id=\"sk-container-id-1\" class=\"sk-top-container\"><div class=\"sk-text-repr-fallback\"><pre>HDBSCAN(cluster_selection_method=&#x27;leaf&#x27;, min_cluster_size=2, min_samples=2)</pre><b>In a Jupyter environment, please rerun this cell to show the HTML representation or trust the notebook. <br />On GitHub, the HTML representation is unable to render, please try loading this page with nbviewer.org.</b></div><div class=\"sk-container\" hidden><div class=\"sk-item\"><div class=\"sk-estimator fitted sk-toggleable\"><input class=\"sk-toggleable__control sk-hidden--visually\" id=\"sk-estimator-id-1\" type=\"checkbox\" checked><label for=\"sk-estimator-id-1\" class=\"sk-toggleable__label fitted sk-toggleable__label-arrow\"><div><div>HDBSCAN</div></div><div><span class=\"sk-estimator-doc-link fitted\">i<span>Fitted</span></span></div></label><div class=\"sk-toggleable__content fitted\" data-param-prefix=\"\">\n",
       "        <div class=\"estimator-table\">\n",
       "            <details>\n",
       "                <summary>Parameters</summary>\n",
       "                <table class=\"parameters-table\">\n",
       "                  <tbody>\n",
       "                    \n",
       "        <tr class=\"user-set\">\n",
       "            <td><i class=\"copy-paste-icon\"\n",
       "                 onclick=\"copyToClipboard('min_cluster_size',\n",
       "                          this.parentElement.nextElementSibling)\"\n",
       "            ></i></td>\n",
       "            <td class=\"param\">min_cluster_size&nbsp;</td>\n",
       "            <td class=\"value\">2</td>\n",
       "        </tr>\n",
       "    \n",
       "\n",
       "        <tr class=\"user-set\">\n",
       "            <td><i class=\"copy-paste-icon\"\n",
       "                 onclick=\"copyToClipboard('min_samples',\n",
       "                          this.parentElement.nextElementSibling)\"\n",
       "            ></i></td>\n",
       "            <td class=\"param\">min_samples&nbsp;</td>\n",
       "            <td class=\"value\">2</td>\n",
       "        </tr>\n",
       "    \n",
       "\n",
       "        <tr class=\"default\">\n",
       "            <td><i class=\"copy-paste-icon\"\n",
       "                 onclick=\"copyToClipboard('cluster_selection_epsilon',\n",
       "                          this.parentElement.nextElementSibling)\"\n",
       "            ></i></td>\n",
       "            <td class=\"param\">cluster_selection_epsilon&nbsp;</td>\n",
       "            <td class=\"value\">0.0</td>\n",
       "        </tr>\n",
       "    \n",
       "\n",
       "        <tr class=\"default\">\n",
       "            <td><i class=\"copy-paste-icon\"\n",
       "                 onclick=\"copyToClipboard('max_cluster_size',\n",
       "                          this.parentElement.nextElementSibling)\"\n",
       "            ></i></td>\n",
       "            <td class=\"param\">max_cluster_size&nbsp;</td>\n",
       "            <td class=\"value\">0</td>\n",
       "        </tr>\n",
       "    \n",
       "\n",
       "        <tr class=\"default\">\n",
       "            <td><i class=\"copy-paste-icon\"\n",
       "                 onclick=\"copyToClipboard('metric',\n",
       "                          this.parentElement.nextElementSibling)\"\n",
       "            ></i></td>\n",
       "            <td class=\"param\">metric&nbsp;</td>\n",
       "            <td class=\"value\">&#x27;euclidean&#x27;</td>\n",
       "        </tr>\n",
       "    \n",
       "\n",
       "        <tr class=\"default\">\n",
       "            <td><i class=\"copy-paste-icon\"\n",
       "                 onclick=\"copyToClipboard('alpha',\n",
       "                          this.parentElement.nextElementSibling)\"\n",
       "            ></i></td>\n",
       "            <td class=\"param\">alpha&nbsp;</td>\n",
       "            <td class=\"value\">1.0</td>\n",
       "        </tr>\n",
       "    \n",
       "\n",
       "        <tr class=\"default\">\n",
       "            <td><i class=\"copy-paste-icon\"\n",
       "                 onclick=\"copyToClipboard('p',\n",
       "                          this.parentElement.nextElementSibling)\"\n",
       "            ></i></td>\n",
       "            <td class=\"param\">p&nbsp;</td>\n",
       "            <td class=\"value\">None</td>\n",
       "        </tr>\n",
       "    \n",
       "\n",
       "        <tr class=\"default\">\n",
       "            <td><i class=\"copy-paste-icon\"\n",
       "                 onclick=\"copyToClipboard('algorithm',\n",
       "                          this.parentElement.nextElementSibling)\"\n",
       "            ></i></td>\n",
       "            <td class=\"param\">algorithm&nbsp;</td>\n",
       "            <td class=\"value\">&#x27;best&#x27;</td>\n",
       "        </tr>\n",
       "    \n",
       "\n",
       "        <tr class=\"default\">\n",
       "            <td><i class=\"copy-paste-icon\"\n",
       "                 onclick=\"copyToClipboard('leaf_size',\n",
       "                          this.parentElement.nextElementSibling)\"\n",
       "            ></i></td>\n",
       "            <td class=\"param\">leaf_size&nbsp;</td>\n",
       "            <td class=\"value\">40</td>\n",
       "        </tr>\n",
       "    \n",
       "\n",
       "        <tr class=\"default\">\n",
       "            <td><i class=\"copy-paste-icon\"\n",
       "                 onclick=\"copyToClipboard('memory',\n",
       "                          this.parentElement.nextElementSibling)\"\n",
       "            ></i></td>\n",
       "            <td class=\"param\">memory&nbsp;</td>\n",
       "            <td class=\"value\">Memory(location=None)</td>\n",
       "        </tr>\n",
       "    \n",
       "\n",
       "        <tr class=\"default\">\n",
       "            <td><i class=\"copy-paste-icon\"\n",
       "                 onclick=\"copyToClipboard('approx_min_span_tree',\n",
       "                          this.parentElement.nextElementSibling)\"\n",
       "            ></i></td>\n",
       "            <td class=\"param\">approx_min_span_tree&nbsp;</td>\n",
       "            <td class=\"value\">True</td>\n",
       "        </tr>\n",
       "    \n",
       "\n",
       "        <tr class=\"default\">\n",
       "            <td><i class=\"copy-paste-icon\"\n",
       "                 onclick=\"copyToClipboard('gen_min_span_tree',\n",
       "                          this.parentElement.nextElementSibling)\"\n",
       "            ></i></td>\n",
       "            <td class=\"param\">gen_min_span_tree&nbsp;</td>\n",
       "            <td class=\"value\">False</td>\n",
       "        </tr>\n",
       "    \n",
       "\n",
       "        <tr class=\"default\">\n",
       "            <td><i class=\"copy-paste-icon\"\n",
       "                 onclick=\"copyToClipboard('core_dist_n_jobs',\n",
       "                          this.parentElement.nextElementSibling)\"\n",
       "            ></i></td>\n",
       "            <td class=\"param\">core_dist_n_jobs&nbsp;</td>\n",
       "            <td class=\"value\">4</td>\n",
       "        </tr>\n",
       "    \n",
       "\n",
       "        <tr class=\"user-set\">\n",
       "            <td><i class=\"copy-paste-icon\"\n",
       "                 onclick=\"copyToClipboard('cluster_selection_method',\n",
       "                          this.parentElement.nextElementSibling)\"\n",
       "            ></i></td>\n",
       "            <td class=\"param\">cluster_selection_method&nbsp;</td>\n",
       "            <td class=\"value\">&#x27;leaf&#x27;</td>\n",
       "        </tr>\n",
       "    \n",
       "\n",
       "        <tr class=\"default\">\n",
       "            <td><i class=\"copy-paste-icon\"\n",
       "                 onclick=\"copyToClipboard('allow_single_cluster',\n",
       "                          this.parentElement.nextElementSibling)\"\n",
       "            ></i></td>\n",
       "            <td class=\"param\">allow_single_cluster&nbsp;</td>\n",
       "            <td class=\"value\">False</td>\n",
       "        </tr>\n",
       "    \n",
       "\n",
       "        <tr class=\"default\">\n",
       "            <td><i class=\"copy-paste-icon\"\n",
       "                 onclick=\"copyToClipboard('prediction_data',\n",
       "                          this.parentElement.nextElementSibling)\"\n",
       "            ></i></td>\n",
       "            <td class=\"param\">prediction_data&nbsp;</td>\n",
       "            <td class=\"value\">False</td>\n",
       "        </tr>\n",
       "    \n",
       "\n",
       "        <tr class=\"default\">\n",
       "            <td><i class=\"copy-paste-icon\"\n",
       "                 onclick=\"copyToClipboard('branch_detection_data',\n",
       "                          this.parentElement.nextElementSibling)\"\n",
       "            ></i></td>\n",
       "            <td class=\"param\">branch_detection_data&nbsp;</td>\n",
       "            <td class=\"value\">False</td>\n",
       "        </tr>\n",
       "    \n",
       "\n",
       "        <tr class=\"default\">\n",
       "            <td><i class=\"copy-paste-icon\"\n",
       "                 onclick=\"copyToClipboard('match_reference_implementation',\n",
       "                          this.parentElement.nextElementSibling)\"\n",
       "            ></i></td>\n",
       "            <td class=\"param\">match_reference_implementation&nbsp;</td>\n",
       "            <td class=\"value\">False</td>\n",
       "        </tr>\n",
       "    \n",
       "\n",
       "        <tr class=\"default\">\n",
       "            <td><i class=\"copy-paste-icon\"\n",
       "                 onclick=\"copyToClipboard('cluster_selection_epsilon_max',\n",
       "                          this.parentElement.nextElementSibling)\"\n",
       "            ></i></td>\n",
       "            <td class=\"param\">cluster_selection_epsilon_max&nbsp;</td>\n",
       "            <td class=\"value\">inf</td>\n",
       "        </tr>\n",
       "    \n",
       "                  </tbody>\n",
       "                </table>\n",
       "            </details>\n",
       "        </div>\n",
       "    </div></div></div></div></div><script>function copyToClipboard(text, element) {\n",
       "    // Get the parameter prefix from the closest toggleable content\n",
       "    const toggleableContent = element.closest('.sk-toggleable__content');\n",
       "    const paramPrefix = toggleableContent ? toggleableContent.dataset.paramPrefix : '';\n",
       "    const fullParamName = paramPrefix ? `${paramPrefix}${text}` : text;\n",
       "\n",
       "    const originalStyle = element.style;\n",
       "    const computedStyle = window.getComputedStyle(element);\n",
       "    const originalWidth = computedStyle.width;\n",
       "    const originalHTML = element.innerHTML.replace('Copied!', '');\n",
       "\n",
       "    navigator.clipboard.writeText(fullParamName)\n",
       "        .then(() => {\n",
       "            element.style.width = originalWidth;\n",
       "            element.style.color = 'green';\n",
       "            element.innerHTML = \"Copied!\";\n",
       "\n",
       "            setTimeout(() => {\n",
       "                element.innerHTML = originalHTML;\n",
       "                element.style = originalStyle;\n",
       "            }, 2000);\n",
       "        })\n",
       "        .catch(err => {\n",
       "            console.error('Failed to copy:', err);\n",
       "            element.style.color = 'red';\n",
       "            element.innerHTML = \"Failed!\";\n",
       "            setTimeout(() => {\n",
       "                element.innerHTML = originalHTML;\n",
       "                element.style = originalStyle;\n",
       "            }, 2000);\n",
       "        });\n",
       "    return false;\n",
       "}\n",
       "\n",
       "document.querySelectorAll('.fa-regular.fa-copy').forEach(function(element) {\n",
       "    const toggleableContent = element.closest('.sk-toggleable__content');\n",
       "    const paramPrefix = toggleableContent ? toggleableContent.dataset.paramPrefix : '';\n",
       "    const paramName = element.parentElement.nextElementSibling.textContent.trim();\n",
       "    const fullParamName = paramPrefix ? `${paramPrefix}${paramName}` : paramName;\n",
       "\n",
       "    element.setAttribute('title', fullParamName);\n",
       "});\n",
       "</script></body>"
      ],
      "text/plain": [
       "HDBSCAN(cluster_selection_method='leaf', min_cluster_size=2, min_samples=2)"
      ]
     },
     "execution_count": 34,
     "metadata": {},
     "output_type": "execute_result"
    }
   ],
   "source": [
    "# Cluster with hdbscan\n",
    "clusterer = hdbscan.HDBSCAN(\n",
    "    min_cluster_size = 2,\n",
    "    min_samples = 2,\n",
    "    cluster_selection_method='leaf'\n",
    ")\n",
    "clusterer.fit(feedback_embeddings_clustering)"
   ]
  },
  {
   "cell_type": "code",
   "execution_count": 35,
   "metadata": {},
   "outputs": [],
   "source": [
    "col_df['cluster'] = [str(x) for x in clusterer.labels_]"
   ]
  },
  {
   "cell_type": "code",
   "execution_count": 36,
   "metadata": {},
   "outputs": [
    {
     "data": {
      "text/html": [
       "\n",
       "<style>\n",
       "  #altair-viz-bc9dc2240bcb455faf1cc4fd923e48a7.vega-embed {\n",
       "    width: 100%;\n",
       "    display: flex;\n",
       "  }\n",
       "\n",
       "  #altair-viz-bc9dc2240bcb455faf1cc4fd923e48a7.vega-embed details,\n",
       "  #altair-viz-bc9dc2240bcb455faf1cc4fd923e48a7.vega-embed details summary {\n",
       "    position: relative;\n",
       "  }\n",
       "</style>\n",
       "<div id=\"altair-viz-bc9dc2240bcb455faf1cc4fd923e48a7\"></div>\n",
       "<script type=\"text/javascript\">\n",
       "  var VEGA_DEBUG = (typeof VEGA_DEBUG == \"undefined\") ? {} : VEGA_DEBUG;\n",
       "  (function(spec, embedOpt){\n",
       "    let outputDiv = document.currentScript.previousElementSibling;\n",
       "    if (outputDiv.id !== \"altair-viz-bc9dc2240bcb455faf1cc4fd923e48a7\") {\n",
       "      outputDiv = document.getElementById(\"altair-viz-bc9dc2240bcb455faf1cc4fd923e48a7\");\n",
       "    }\n",
       "\n",
       "    const paths = {\n",
       "      \"vega\": \"https://cdn.jsdelivr.net/npm/vega@5?noext\",\n",
       "      \"vega-lib\": \"https://cdn.jsdelivr.net/npm/vega-lib?noext\",\n",
       "      \"vega-lite\": \"https://cdn.jsdelivr.net/npm/vega-lite@5.20.1?noext\",\n",
       "      \"vega-embed\": \"https://cdn.jsdelivr.net/npm/vega-embed@6?noext\",\n",
       "    };\n",
       "\n",
       "    function maybeLoadScript(lib, version) {\n",
       "      var key = `${lib.replace(\"-\", \"\")}_version`;\n",
       "      return (VEGA_DEBUG[key] == version) ?\n",
       "        Promise.resolve(paths[lib]) :\n",
       "        new Promise(function(resolve, reject) {\n",
       "          var s = document.createElement('script');\n",
       "          document.getElementsByTagName(\"head\")[0].appendChild(s);\n",
       "          s.async = true;\n",
       "          s.onload = () => {\n",
       "            VEGA_DEBUG[key] = version;\n",
       "            return resolve(paths[lib]);\n",
       "          };\n",
       "          s.onerror = () => reject(`Error loading script: ${paths[lib]}`);\n",
       "          s.src = paths[lib];\n",
       "        });\n",
       "    }\n",
       "\n",
       "    function showError(err) {\n",
       "      outputDiv.innerHTML = `<div class=\"error\" style=\"color:red;\">${err}</div>`;\n",
       "      throw err;\n",
       "    }\n",
       "\n",
       "    function displayChart(vegaEmbed) {\n",
       "      vegaEmbed(outputDiv, spec, embedOpt)\n",
       "        .catch(err => showError(`Javascript Error: ${err.message}<br>This usually means there's a typo in your chart specification. See the javascript console for the full traceback.`));\n",
       "    }\n",
       "\n",
       "    if(typeof define === \"function\" && define.amd) {\n",
       "      requirejs.config({paths});\n",
       "      let deps = [\"vega-embed\"];\n",
       "      require(deps, displayChart, err => showError(`Error loading script: ${err.message}`));\n",
       "    } else {\n",
       "      maybeLoadScript(\"vega\", \"5\")\n",
       "        .then(() => maybeLoadScript(\"vega-lite\", \"5.20.1\"))\n",
       "        .then(() => maybeLoadScript(\"vega-embed\", \"6\"))\n",
       "        .catch(showError)\n",
       "        .then(() => displayChart(vegaEmbed));\n",
       "    }\n",
       "  })({\"config\": {\"view\": {\"continuousWidth\": 300, \"continuousHeight\": 300}, \"title\": {\"fontSize\": 24}}, \"data\": {\"name\": \"data-557e4692c28fe371862fad753ab2da94\"}, \"mark\": {\"type\": \"circle\", \"size\": 60}, \"encoding\": {\"color\": {\"field\": \"cluster\", \"scale\": {\"scheme\": \"category20\"}, \"type\": \"nominal\"}, \"tooltip\": [{\"field\": \"feedback\", \"type\": \"nominal\"}, {\"field\": \"cluster\", \"type\": \"nominal\"}], \"x\": {\"field\": \"x\", \"type\": \"quantitative\"}, \"y\": {\"field\": \"y\", \"type\": \"quantitative\"}}, \"height\": 800, \"params\": [{\"name\": \"param_1\", \"select\": {\"type\": \"interval\", \"encodings\": [\"x\", \"y\"]}, \"bind\": \"scales\"}], \"title\": \"Feedback clusters\", \"width\": 800, \"$schema\": \"https://vega.github.io/schema/vega-lite/v5.20.1.json\", \"datasets\": {\"data-557e4692c28fe371862fad753ab2da94\": [{\"feedback\": \"the information was very helpful and easy to navigate\", \"x\": -1.1620672941207886, \"y\": 2.479228973388672, \"cluster\": \"42\"}, {\"feedback\": \"i found the website confusing and hard to use\", \"x\": -0.380391001701355, \"y\": 2.0341596603393555, \"cluster\": \"30\"}, {\"feedback\": \"great job on the user interface very intuitive\", \"x\": 0.6437172293663025, \"y\": 5.167657375335693, \"cluster\": \"-1\"}, {\"feedback\": \"the page loads are too slow and it frustrates me every time\", \"x\": 2.775763988494873, \"y\": -0.459074467420578, \"cluster\": \"-1\"}, {\"feedback\": \"thanks for providing up to date information\", \"x\": -0.8366304636001587, \"y\": 2.2762856483459473, \"cluster\": \"43\"}, {\"feedback\": \"i hate the layout it makes no sense at all\", \"x\": -0.3557974100112915, \"y\": 6.852487087249756, \"cluster\": \"-1\"}, {\"feedback\": \"excellent customer service my issue was resolved quickly\", \"x\": -0.9877799153327942, \"y\": 0.5274137258529663, \"cluster\": \"15\"}, {\"feedback\": \"the form submission failed multiple times call me on phone if you need more info\", \"x\": 0.632639467716217, \"y\": 1.4052470922470093, \"cluster\": \"35\"}, {\"feedback\": \"very informative site with all the resources i needed\", \"x\": -0.8114842176437378, \"y\": 2.348722457885742, \"cluster\": \"43\"}, {\"feedback\": \"i couldnt find the contact information i was looking for very unhelpful i tried emailing email but got no reply\", \"x\": -0.04974523186683655, \"y\": 1.7536388635635376, \"cluster\": \"32\"}, {\"feedback\": \"the search function didnt return relevant results for my query\", \"x\": -3.2490346431732178, \"y\": -0.4182873070240021, \"cluster\": \"4\"}, {\"feedback\": \"information on tax codes was very clear thank you\", \"x\": -1.2685874700546265, \"y\": 2.116147994995117, \"cluster\": \"41\"}, {\"feedback\": \"i struggled to complete the online application form it kept timing out\", \"x\": 0.6849254965782166, \"y\": 1.3668718338012695, \"cluster\": \"35\"}, {\"feedback\": \"the website works surprisingly well on my mobile phone\", \"x\": -0.18191303312778473, \"y\": 3.1385385990142822, \"cluster\": \"16\"}, {\"feedback\": \"the guidance provided was far too technical and difficult to understand\", \"x\": -0.5938994884490967, \"y\": 1.268498182296753, \"cluster\": \"25\"}, {\"feedback\": \"renewing my driving licence online was surprisingly straightforward\", \"x\": -1.404967188835144, \"y\": 2.1502444744110107, \"cluster\": \"-1\"}, {\"feedback\": \"received an unhelpful error message name 500 when trying to submit payment\", \"x\": 0.20000338554382324, \"y\": 0.9358701109886169, \"cluster\": \"39\"}, {\"feedback\": \"the accessibility options like text resizing are genuinely helpful\", \"x\": 8.904138565063477, \"y\": 5.814496040344238, \"cluster\": \"0\"}, {\"feedback\": \"it wasnt clear from the website whether i was eligible for the childcare support\", \"x\": 0.04400402307510376, \"y\": 1.6527773141860962, \"cluster\": \"32\"}, {\"feedback\": \"the step by step guide for applying was perfect very easy to follow\", \"x\": -1.5406678915023804, \"y\": 2.194315195083618, \"cluster\": \"28\"}, {\"feedback\": \"site was down for maintenance right when i needed it urgently on name morning\", \"x\": -0.6153919696807861, \"y\": 1.5825278759002686, \"cluster\": \"30\"}, {\"feedback\": \"found the opening hours for the local job centre easily using the search\", \"x\": -2.1822876930236816, \"y\": 0.5533514022827148, \"cluster\": \"-1\"}, {\"feedback\": \"the login process for my government gateway account is too complicated\", \"x\": -1.2428165674209595, \"y\": 1.4968550205230713, \"cluster\": \"-1\"}, {\"feedback\": \"several links in the pdf document i downloaded were broken\", \"x\": 0.8672837018966675, \"y\": 0.5253117680549622, \"cluster\": \"22\"}, {\"feedback\": \"clear explanation of exactly which documents i needed to provide\", \"x\": -0.8696061968803406, \"y\": 2.053729772567749, \"cluster\": \"41\"}, {\"feedback\": \"why is there no simple webchat support available for quick questions\", \"x\": -0.47158434987068176, \"y\": 1.51866614818573, \"cluster\": \"30\"}, {\"feedback\": \"the latest policy update took ages to actually appear on the relevant page\", \"x\": -0.9165819883346558, \"y\": 1.3657387495040894, \"cluster\": \"-1\"}, {\"feedback\": \"impressed with how quickly the travel advice information is updated\", \"x\": -1.0206528902053833, \"y\": 2.6623311042785645, \"cluster\": \"-1\"}, {\"feedback\": \"the vat return form was much simpler this year compared to last\", \"x\": -0.34887585043907166, \"y\": 2.01371169090271, \"cluster\": \"30\"}, {\"feedback\": \"conflicting information on two different pages about visa requirements\", \"x\": -0.7207323312759399, \"y\": 2.0531647205352783, \"cluster\": \"41\"}, {\"feedback\": \"the interactive tool helped me calculate my potential state pension\", \"x\": -0.6622082591056824, \"y\": 1.901923656463623, \"cluster\": \"30\"}, {\"feedback\": \"why cant i save my progress halfway through the disability benefit form\", \"x\": 0.16834034025669098, \"y\": 1.6197103261947632, \"cluster\": \"-1\"}, {\"feedback\": \"the name language option worked perfectly throughout the site\", \"x\": -0.5040310025215149, \"y\": 2.5329301357269287, \"cluster\": \"-1\"}, {\"feedback\": \"page timed out just as i was about to submit my self assessment lost all data\", \"x\": -0.08737543225288391, \"y\": 1.6426818370819092, \"cluster\": \"-1\"}, {\"feedback\": \"much better than the old paper forms we used to have to fill in\", \"x\": -0.34570080041885376, \"y\": 1.9895803928375244, \"cluster\": \"30\"}, {\"feedback\": \"the error name postcode format kept showing even though my postcode was correct\", \"x\": 0.1994457095861435, \"y\": 0.9063365459442139, \"cluster\": \"-1\"}, {\"feedback\": \"found the guide to starting a business very useful and comprehensive\", \"x\": -1.2193052768707275, \"y\": 2.2660300731658936, \"cluster\": \"42\"}, {\"feedback\": \"too much jargon in the policy explanation documents for laypeople\", \"x\": -0.7907242774963379, \"y\": 1.7377792596817017, \"cluster\": \"-1\"}, {\"feedback\": \"the site map was helpful for finding a specific section i couldnt locate via search\", \"x\": -0.508857786655426, \"y\": 2.399001121520996, \"cluster\": \"30\"}, {\"feedback\": \"mobile app keeps crashing whenever i try to upload a document on name\", \"x\": 1.6118712425231934, \"y\": 0.9879894256591797, \"cluster\": \"37\"}, {\"feedback\": \"clear breakdown of council tax bands and how they are calculated\", \"x\": -0.8292665481567383, \"y\": 1.9765174388885498, \"cluster\": \"-1\"}, {\"feedback\": \"the contact us form feels like it goes into a black hole no confirmation received\", \"x\": 0.006887885741889477, \"y\": 1.296890139579773, \"cluster\": \"32\"}, {\"feedback\": \"response time to my official query submitted online was faster than expected\", \"x\": -0.9814837574958801, \"y\": -0.5429124236106873, \"cluster\": \"-1\"}, {\"feedback\": \"video guides explaining complex processes were a great addition\", \"x\": -1.2565901279449463, \"y\": 2.0665910243988037, \"cluster\": \"42\"}, {\"feedback\": \"font size is too small on some informational pages hard to read\", \"x\": -0.2590804994106293, \"y\": 7.45554780960083, \"cluster\": \"2\"}, {\"feedback\": \"easy to track my passport application status online using the tracker\", \"x\": -0.6456858515739441, \"y\": 2.8741650581359863, \"cluster\": \"-1\"}, {\"feedback\": \"the help text next to the form fields was actually more confusing than helpful\", \"x\": -0.17796866595745087, \"y\": 1.826602816581726, \"cluster\": \"-1\"}, {\"feedback\": \"sorting the search results by date published would be a useful feature\", \"x\": -2.302105665206909, \"y\": 0.46947264671325684, \"cluster\": \"-1\"}, {\"feedback\": \"great site great site great site love it love it\", \"x\": -0.44018152356147766, \"y\": 2.756720542907715, \"cluster\": \"-1\"}, {\"feedback\": \"the site loads incredibly fast and themes are well organized\", \"x\": -0.7175902128219604, \"y\": -1.2214528322219849, \"cluster\": \"14\"}, {\"feedback\": \"navigation menu is broken and i cant find anything\", \"x\": -3.5410683155059814, \"y\": 5.013677597045898, \"cluster\": \"20\"}, {\"feedback\": \"love the clean design and intuitive theme categories\", \"x\": 1.4090415239334106, \"y\": 5.05362606048584, \"cluster\": \"23\"}, {\"feedback\": \"text is too small and hard to read on mobile devices\", \"x\": -1.2376657724380493, \"y\": 7.6312055587768555, \"cluster\": \"10\"}, {\"feedback\": \"search function works perfectly and saves me time\", \"x\": -2.7864320278167725, \"y\": -0.35130274295806885, \"cluster\": \"6\"}, {\"feedback\": \"page crashes every time i try to preview themes\", \"x\": 1.8967928886413574, \"y\": 0.3508564233779907, \"cluster\": \"38\"}, {\"feedback\": \"excellent accessibility features for screen readers\", \"x\": 8.857828140258789, \"y\": 5.812440395355225, \"cluster\": \"0\"}, {\"feedback\": \"color contrast is poor and makes reading difficult\", \"x\": 2.4718992710113525, \"y\": 6.589187145233154, \"cluster\": \"18\"}, {\"feedback\": \"theme filtering options are comprehensive and useful\", \"x\": 1.861282229423523, \"y\": 4.16806173324585, \"cluster\": \"24\"}, {\"feedback\": \"loading times are painfully slow on every page\", \"x\": 3.110368490219116, \"y\": -0.7218892574310303, \"cluster\": \"27\"}, {\"feedback\": \"the theme explorer is incredibly easy to navigate and find what i need\", \"x\": 1.5778613090515137, \"y\": 4.424518585205078, \"cluster\": \"24\"}, {\"feedback\": \"colors are too hard to distinguish needs better contrast options\", \"x\": 2.5581471920013428, \"y\": 6.443872451782227, \"cluster\": \"18\"}, {\"feedback\": \"love how fast the themes load when i preview them\", \"x\": 1.8636586666107178, \"y\": 4.625135898590088, \"cluster\": \"-1\"}, {\"feedback\": \"the search function doesnt work properly cant find anything\", \"x\": -3.184727668762207, \"y\": -0.39994320273399353, \"cluster\": \"4\"}, {\"feedback\": \"perfect accessibility features screen reader works flawlessly\", \"x\": 8.647089958190918, \"y\": 5.605149745941162, \"cluster\": \"1\"}, {\"feedback\": \"app crashes every time i try to save my favorite themes\", \"x\": 1.885932445526123, \"y\": 0.6071892380714417, \"cluster\": \"38\"}, {\"feedback\": \"clean design and crystal clear theme descriptions helped me choose\", \"x\": 1.618730902671814, \"y\": 4.50604772567749, \"cluster\": \"24\"}, {\"feedback\": \"menu buttons are confusing and i keep getting lost in the app\", \"x\": -2.8559436798095703, \"y\": 4.629045009613037, \"cluster\": \"-1\"}, {\"feedback\": \"amazing variety of themes and super responsive interface overall\", \"x\": 1.282014012336731, \"y\": 4.508691310882568, \"cluster\": \"-1\"}, {\"feedback\": \"text is way too small to read comfortably on mobile devices\", \"x\": -1.1890032291412354, \"y\": 7.659170627593994, \"cluster\": \"10\"}, {\"feedback\": \"the site loads incredibly fast great performance\", \"x\": -0.9518885612487793, \"y\": -1.4765684604644775, \"cluster\": \"13\"}, {\"feedback\": \"navigation menu is confusing and hard to find\", \"x\": -3.563481330871582, \"y\": 5.04716157913208, \"cluster\": \"21\"}, {\"feedback\": \"love the clean design and easy to read fonts\", \"x\": 0.31188276410102844, \"y\": 6.747233867645264, \"cluster\": \"-1\"}, {\"feedback\": \"page takes forever to load on mobile devices\", \"x\": 3.093679666519165, \"y\": -0.265902042388916, \"cluster\": \"26\"}, {\"feedback\": \"accessibility features work perfectly with my screen reader\", \"x\": 8.755928039550781, \"y\": 5.703213214874268, \"cluster\": \"0\"}, {\"feedback\": \"search function doesnt return relevant results\", \"x\": -3.296318531036377, \"y\": -0.47174471616744995, \"cluster\": \"4\"}, {\"feedback\": \"interface is intuitive and user friendly overall\", \"x\": 0.482105016708374, \"y\": 5.3436408042907715, \"cluster\": \"31\"}, {\"feedback\": \"text is too small and difficult to read clearly\", \"x\": -1.0870869159698486, \"y\": 7.868916034698486, \"cluster\": \"5\"}, {\"feedback\": \"excellent mobile responsiveness across all devices\", \"x\": 0.23053190112113953, \"y\": 4.087201118469238, \"cluster\": \"-1\"}, {\"feedback\": \"buttons are broken and dont respond to clicks\", \"x\": -1.9285786151885986, \"y\": 4.119477272033691, \"cluster\": \"12\"}, {\"feedback\": \"the website loads incredibly fast great performance\", \"x\": -1.0233054161071777, \"y\": -1.4109957218170166, \"cluster\": \"-1\"}, {\"feedback\": \"navigation menu is confusing and hard to find what i need\", \"x\": -3.4290852546691895, \"y\": 4.937307834625244, \"cluster\": \"21\"}, {\"feedback\": \"love the clean design and intuitive user interface\", \"x\": 0.7672867178916931, \"y\": 5.412109851837158, \"cluster\": \"34\"}, {\"feedback\": \"text is too small to read accessibility needs improvement\", \"x\": -0.9422693848609924, \"y\": 7.704619884490967, \"cluster\": \"-1\"}, {\"feedback\": \"search function works perfectly found everything quickly\", \"x\": -2.725679874420166, \"y\": -0.25926485657691956, \"cluster\": \"7\"}, {\"feedback\": \"page keeps crashing on mobile very frustrating experience\", \"x\": 1.945259690284729, \"y\": 0.7850374579429626, \"cluster\": \"-1\"}, {\"feedback\": \"checkout process is smooth and secure highly recommend\", \"x\": -1.9181309938430786, \"y\": 1.229673981666565, \"cluster\": \"29\"}, {\"feedback\": \"links are broken and lead to error pages constantly\", \"x\": 1.1567796468734741, \"y\": 0.323612242937088, \"cluster\": \"22\"}, {\"feedback\": \"amazing color scheme and layout visually appealing site\", \"x\": 1.9860873222351074, \"y\": 6.053536891937256, \"cluster\": \"-1\"}, {\"feedback\": \"loading times are terrible takes forever to open pages\", \"x\": 2.8054614067077637, \"y\": -0.6622411012649536, \"cluster\": \"-1\"}, {\"feedback\": \"the site loads incredibly fast and the theme options are amazing\", \"x\": -0.5759772062301636, \"y\": -1.3465626239776611, \"cluster\": \"-1\"}, {\"feedback\": \"navigation is confusing and i cant find the settings menu anywhere\", \"x\": -3.089284658432007, \"y\": 4.6091084480285645, \"cluster\": \"-1\"}, {\"feedback\": \"love the clean design and how easy it is to browse themes\", \"x\": 1.5004862546920776, \"y\": 4.847442626953125, \"cluster\": \"23\"}, {\"feedback\": \"text is too small to read and theres no accessibility options\", \"x\": -0.967808723449707, \"y\": 7.6891560554504395, \"cluster\": \"9\"}, {\"feedback\": \"perfect tool for exploring different themes very user friendly\", \"x\": 1.718459129333496, \"y\": 4.25459623336792, \"cluster\": \"24\"}, {\"feedback\": \"the app crashes every time i try to preview a theme\", \"x\": 1.842020869255066, \"y\": 0.5339372158050537, \"cluster\": \"38\"}, {\"feedback\": \"great variety of themes and the search function works perfectly\", \"x\": 1.6085983514785767, \"y\": 3.930065155029297, \"cluster\": \"-1\"}, {\"feedback\": \"loading times are terrible and the interface feels outdated\", \"x\": 2.6194112300872803, \"y\": -0.8076194524765015, \"cluster\": \"-1\"}, {\"feedback\": \"excellent categorization makes finding the right theme so easy\", \"x\": 1.7996435165405273, \"y\": 4.131676197052002, \"cluster\": \"24\"}, {\"feedback\": \"the preview feature doesnt work and many links are broken\", \"x\": 1.3063523769378662, \"y\": 0.5460116863250732, \"cluster\": \"22\"}, {\"feedback\": \"the page loads incredibly fast great performance\", \"x\": -0.6824783086776733, \"y\": -1.4505903720855713, \"cluster\": \"-1\"}, {\"feedback\": \"font size is too small difficult to read on mobile\", \"x\": -0.4137580692768097, \"y\": 7.452239036560059, \"cluster\": \"2\"}, {\"feedback\": \"love the clean design and intuitive layout\", \"x\": 1.03472900390625, \"y\": 5.548348426818848, \"cluster\": \"33\"}, {\"feedback\": \"site crashed when i tried to submit the form\", \"x\": 0.8875330090522766, \"y\": 1.3010245561599731, \"cluster\": \"36\"}, {\"feedback\": \"instructions were unclear and caused confusion\", \"x\": -0.3023585379123688, \"y\": 1.0344873666763306, \"cluster\": \"25\"}, {\"feedback\": \"quick checkout process very user friendly\", \"x\": -1.765080213546753, \"y\": 1.2113970518112183, \"cluster\": \"29\"}, {\"feedback\": \"links are broken on the help page\", \"x\": 0.9287302494049072, \"y\": 0.49992188811302185, \"cluster\": \"22\"}, {\"feedback\": \"perfect color contrast makes everything easy to see\", \"x\": 2.5421159267425537, \"y\": 6.317419052124023, \"cluster\": \"18\"}, {\"feedback\": \"the navigation menu is confusing and hard to find what i need\", \"x\": -3.4355032444000244, \"y\": 4.948486804962158, \"cluster\": \"21\"}, {\"feedback\": \"love the clean design and intuitive layout of the homepage\", \"x\": 1.082273244857788, \"y\": 5.752245903015137, \"cluster\": \"33\"}, {\"feedback\": \"pages load incredibly fast great performance optimization\", \"x\": -0.8076726794242859, \"y\": -1.5453461408615112, \"cluster\": \"-1\"}, {\"feedback\": \"text is too small to read comfortably on my tablet screen\", \"x\": -1.3167951107025146, \"y\": 7.575818061828613, \"cluster\": \"10\"}, {\"feedback\": \"the search function works perfectly and finds exactly what i want\", \"x\": -2.8911118507385254, \"y\": -0.2108403891324997, \"cluster\": \"8\"}, {\"feedback\": \"app crashes every time i try to upload a photo\", \"x\": 1.715207576751709, \"y\": 0.7779299020767212, \"cluster\": \"37\"}, {\"feedback\": \"excellent accessibility features works great with my screen reader\", \"x\": 8.845703125, \"y\": 5.854222297668457, \"cluster\": \"0\"}, {\"feedback\": \"the checkout process is way too complicated and frustrating\", \"x\": -1.7327418327331543, \"y\": 1.3756053447723389, \"cluster\": \"29\"}, {\"feedback\": \"simple and straightforward interface exactly what i needed\", \"x\": 0.5221765637397766, \"y\": 5.341384410858154, \"cluster\": \"31\"}, {\"feedback\": \"site keeps freezing when i scroll through the product gallery\", \"x\": 2.4519214630126953, \"y\": -0.02100316807627678, \"cluster\": \"-1\"}, {\"feedback\": \"the site loads incredibly fast and the interface is very intuitive\", \"x\": -0.8827906250953674, \"y\": -1.3210861682891846, \"cluster\": \"14\"}, {\"feedback\": \"navigation menu is confusing and i cant find what im looking for\", \"x\": -3.5205190181732178, \"y\": 5.0624189376831055, \"cluster\": \"20\"}, {\"feedback\": \"great accessibility features works perfectly with my screen reader\", \"x\": 8.820101737976074, \"y\": 5.863038063049316, \"cluster\": \"0\"}, {\"feedback\": \"text is too small and theres no option to increase font size\", \"x\": -0.30594581365585327, \"y\": 7.526239395141602, \"cluster\": \"2\"}, {\"feedback\": \"love the clean design and how everything is clearly organized\", \"x\": 1.0260778665542603, \"y\": 5.5446391105651855, \"cluster\": \"33\"}, {\"feedback\": \"page takes forever to load and often times out completely\", \"x\": 2.9112143516540527, \"y\": -0.11557981371879578, \"cluster\": \"26\"}, {\"feedback\": \"search function works great and gives relevant results quickly\", \"x\": -2.7026171684265137, \"y\": -0.13893447816371918, \"cluster\": \"6\"}, {\"feedback\": \"instructions are unclear and the process is overly complicated\", \"x\": -0.5285642743110657, \"y\": 1.1958545446395874, \"cluster\": \"25\"}, {\"feedback\": \"mobile version works smoothly and all features are accessible\", \"x\": 0.10266803205013275, \"y\": 3.786147117614746, \"cluster\": \"16\"}, {\"feedback\": \"error messages are unhelpful and dont explain what went wrong\", \"x\": -0.06159009411931038, \"y\": 1.042945146560669, \"cluster\": \"-1\"}, {\"feedback\": \"page loading times are extremely slow very frustrating\", \"x\": 3.0526392459869385, \"y\": -0.8104333877563477, \"cluster\": \"27\"}, {\"feedback\": \"the search function works perfectly and finds results quickly\", \"x\": -2.8297488689422607, \"y\": -0.2139613926410675, \"cluster\": \"7\"}, {\"feedback\": \"font size is too small and difficult to read on mobile devices\", \"x\": -0.5314850807189941, \"y\": 7.6155877113342285, \"cluster\": \"2\"}, {\"feedback\": \"great color contrast makes everything easy to see and read\", \"x\": 2.5163490772247314, \"y\": 6.3483500480651855, \"cluster\": \"18\"}, {\"feedback\": \"the checkout process crashed twice before i could complete it\", \"x\": -1.7169183492660522, \"y\": 1.2580821514129639, \"cluster\": \"29\"}, {\"feedback\": \"smooth scrolling and responsive design work great on my tablet\", \"x\": 0.44168680906295776, \"y\": 4.463484287261963, \"cluster\": \"-1\"}, {\"feedback\": \"error messages are vague and dont help solve the problem\", \"x\": -0.022203385829925537, \"y\": 0.9970512390136719, \"cluster\": \"40\"}, {\"feedback\": \"the help section is comprehensive and answered all my questions\", \"x\": -0.7845112085342407, \"y\": 2.1848108768463135, \"cluster\": \"43\"}, {\"feedback\": \"the website loads incredibly fast i was impressed with the speed\", \"x\": -0.8040991425514221, \"y\": -1.2820318937301636, \"cluster\": \"14\"}, {\"feedback\": \"navigation menu is confusing and i couldnt find what i needed\", \"x\": -3.610322952270508, \"y\": 5.104763031005859, \"cluster\": \"-1\"}, {\"feedback\": \"great accessibility features screen reader works perfectly here\", \"x\": 8.639147758483887, \"y\": 5.645177841186523, \"cluster\": \"1\"}, {\"feedback\": \"page takes forever to load very frustrating experience overall\", \"x\": 2.9295530319213867, \"y\": -0.19214919209480286, \"cluster\": \"26\"}, {\"feedback\": \"instructions were crystal clear completed my task in minutes\", \"x\": -0.8858098983764648, \"y\": 1.2540345191955566, \"cluster\": \"-1\"}, {\"feedback\": \"font size is too small difficult to read on mobile devices\", \"x\": -0.4129502475261688, \"y\": 7.487860679626465, \"cluster\": \"2\"}, {\"feedback\": \"love the clean design and intuitive layout of this application\", \"x\": 0.9260466694831848, \"y\": 5.585388660430908, \"cluster\": \"33\"}, {\"feedback\": \"search function doesnt work properly returns irrelevant results\", \"x\": -3.2338390350341797, \"y\": -0.42676466703414917, \"cluster\": \"4\"}, {\"feedback\": \"customer support chat feature is responsive and very helpful\", \"x\": -1.2047227621078491, \"y\": 0.6580935120582581, \"cluster\": \"15\"}, {\"feedback\": \"form validation errors are unclear and dont help me fix issues\", \"x\": 0.36309877038002014, \"y\": 1.4509756565093994, \"cluster\": \"35\"}, {\"feedback\": \"the search function works perfectly and returns relevant results quickly\", \"x\": -2.7872304916381836, \"y\": -0.13677814602851868, \"cluster\": \"7\"}, {\"feedback\": \"navigation menu is confusing and i couldnt find what i was looking for\", \"x\": -3.5063326358795166, \"y\": 5.207931995391846, \"cluster\": \"-1\"}, {\"feedback\": \"page loads very slowly on mobile takes over 10 seconds to display\", \"x\": 3.200596332550049, \"y\": -0.5003410577774048, \"cluster\": \"27\"}, {\"feedback\": \"love the clean design and intuitive layout of the homepage\", \"x\": 1.0273550748825073, \"y\": 5.776476860046387, \"cluster\": \"33\"}, {\"feedback\": \"text is too small to read without zooming in accessibility issue\", \"x\": -0.8967470526695251, \"y\": 7.803909778594971, \"cluster\": \"9\"}, {\"feedback\": \"filter options are helpful and make browsing much more efficient\", \"x\": 1.7716405391693115, \"y\": 4.984915256500244, \"cluster\": \"-1\"}, {\"feedback\": \"contact form keeps showing error messages even with valid information\", \"x\": 0.5249968767166138, \"y\": 1.2432118654251099, \"cluster\": \"35\"}, {\"feedback\": \"really impressed with how fast the pages load and respond to clicks\", \"x\": -0.8447661995887756, \"y\": -1.0655887126922607, \"cluster\": \"3\"}, {\"feedback\": \"the back button doesnt work properly keeps redirecting to wrong page\", \"x\": 0.9870054721832275, \"y\": 0.3643190562725067, \"cluster\": \"22\"}, {\"feedback\": \"theme customization options are excellent and easy to use\", \"x\": 1.6174677610397339, \"y\": 4.28162145614624, \"cluster\": \"24\"}, {\"feedback\": \"the search function doesnt work properly keeps showing no results\", \"x\": -3.313429832458496, \"y\": -0.3755621016025543, \"cluster\": \"4\"}, {\"feedback\": \"love the new dark mode feature makes browsing much easier on my eyes\", \"x\": 2.317821979522705, \"y\": 5.56827974319458, \"cluster\": \"17\"}, {\"feedback\": \"page loading times are incredibly slow waited 30 seconds for homepage\", \"x\": 3.0750935077667236, \"y\": -0.7422115802764893, \"cluster\": \"27\"}, {\"feedback\": \"navigation menu is intuitive and i found everything i needed quickly\", \"x\": -3.3056037425994873, \"y\": 4.303857326507568, \"cluster\": \"-1\"}, {\"feedback\": \"font size is too small for elderly users like me to read comfortably\", \"x\": -0.26884058117866516, \"y\": 7.386446952819824, \"cluster\": \"2\"}, {\"feedback\": \"the step by step guide made the whole process super straightforward\", \"x\": -1.6342231035232544, \"y\": 1.9090219736099243, \"cluster\": \"28\"}, {\"feedback\": \"mobile version is broken buttons dont respond to touch properly\", \"x\": -1.631727695465088, \"y\": 3.9513275623321533, \"cluster\": \"12\"}, {\"feedback\": \"excellent customer support chat feature got help within minutes\", \"x\": -1.2439892292022705, \"y\": 0.6613792181015015, \"cluster\": \"15\"}, {\"feedback\": \"error messages are confusing and dont tell me how to fix the problem\", \"x\": 0.19617566466331482, \"y\": 0.9403629899024963, \"cluster\": \"39\"}, {\"feedback\": \"clean design and fast performance make this my go to platform now\", \"x\": 0.6087130904197693, \"y\": 4.875889778137207, \"cluster\": \"-1\"}, {\"feedback\": \"the search function is incredibly fast and finds exactly what i need\", \"x\": -2.6079466342926025, \"y\": -0.17169350385665894, \"cluster\": \"6\"}, {\"feedback\": \"navigation menu is confusing and hard to find important sections\", \"x\": -3.480656862258911, \"y\": 4.974549293518066, \"cluster\": \"11\"}, {\"feedback\": \"love the clean design and intuitive layout of the interface\", \"x\": 0.8811144232749939, \"y\": 5.337932586669922, \"cluster\": \"34\"}, {\"feedback\": \"page loading takes forever especially on mobile devices\", \"x\": 3.039597511291504, \"y\": -0.3168187141418457, \"cluster\": \"26\"}, {\"feedback\": \"accessibility features work great with my screen reader\", \"x\": 8.838504791259766, \"y\": 5.879693984985352, \"cluster\": \"1\"}, {\"feedback\": \"text is too small and difficult to read without zooming in\", \"x\": -0.9545267820358276, \"y\": 7.7905707359313965, \"cluster\": \"5\"}, {\"feedback\": \"the theme customization options are extensive and easy to use\", \"x\": 1.9014078378677368, \"y\": 4.164248943328857, \"cluster\": \"24\"}, {\"feedback\": \"buttons are not responsive and sometimes dont register clicks\", \"x\": -2.0323143005371094, \"y\": 4.210470199584961, \"cluster\": \"12\"}, {\"feedback\": \"excellent color contrast makes everything very readable\", \"x\": 2.430490255355835, \"y\": 6.432679176330566, \"cluster\": \"18\"}, {\"feedback\": \"the mobile version is buggy and crashes frequently\", \"x\": 1.3497523069381714, \"y\": 1.2782572507858276, \"cluster\": \"-1\"}, {\"feedback\": \"love the new dark mode feature makes reading so much easier\", \"x\": 2.3576791286468506, \"y\": 5.567872524261475, \"cluster\": \"17\"}, {\"feedback\": \"pages load incredibly slow especially on mobile devices\", \"x\": 3.1186752319335938, \"y\": -0.6859062314033508, \"cluster\": \"-1\"}, {\"feedback\": \"great accessibility options screen reader works flawlessly\", \"x\": 8.554973602294922, \"y\": 5.518487453460693, \"cluster\": \"-1\"}, {\"feedback\": \"the checkout process has too many steps and is frustrating\", \"x\": -1.6624622344970703, \"y\": 1.3078564405441284, \"cluster\": \"29\"}, {\"feedback\": \"interface is clean and intuitive found everything easily\", \"x\": 0.6353417634963989, \"y\": 5.309901714324951, \"cluster\": \"31\"}, {\"feedback\": \"error messages are unclear and dont help solve the problem\", \"x\": 0.05610789731144905, \"y\": 1.0173605680465698, \"cluster\": \"40\"}, {\"feedback\": \"customer support chat was helpful and resolved my issue fast\", \"x\": -1.0686984062194824, \"y\": 0.7537798285484314, \"cluster\": \"15\"}, {\"feedback\": \"the search function works perfectly and finds exactly what i need\", \"x\": -2.787365674972534, \"y\": -0.275278240442276, \"cluster\": \"8\"}, {\"feedback\": \"page loading is extremely slow makes the site frustrating to use\", \"x\": 2.937208890914917, \"y\": -0.6417484879493713, \"cluster\": \"-1\"}, {\"feedback\": \"navigation menu is confusing and i cant find basic information\", \"x\": -3.2541487216949463, \"y\": 5.180916786193848, \"cluster\": \"20\"}, {\"feedback\": \"great accessibility features screen reader compatibility is excellent\", \"x\": 8.511643409729004, \"y\": 5.53329610824585, \"cluster\": \"1\"}, {\"feedback\": \"the mobile version crashes frequently when i try to submit forms\", \"x\": 1.229974389076233, \"y\": 1.2051364183425903, \"cluster\": \"-1\"}, {\"feedback\": \"clean design and intuitive layout make browsing really enjoyable\", \"x\": 1.3966550827026367, \"y\": 5.562106132507324, \"cluster\": \"-1\"}, {\"feedback\": \"text is too small and hard to read especially on mobile devices\", \"x\": -1.2730332612991333, \"y\": 7.716543197631836, \"cluster\": \"10\"}, {\"feedback\": \"quick response times and smooth performance throughout the site\", \"x\": -1.0344374179840088, \"y\": -0.7925508618354797, \"cluster\": \"3\"}, {\"feedback\": \"error messages are unclear and dont help me fix the problem\", \"x\": 0.09615837782621384, \"y\": 0.9904499650001526, \"cluster\": \"40\"}, {\"feedback\": \"the new dashboard update is user friendly and saves me time\", \"x\": -1.0741456747055054, \"y\": 0.8178775310516357, \"cluster\": \"15\"}, {\"feedback\": \"the search function loads incredibly slowly on mobile devices\", \"x\": -2.752000331878662, \"y\": -0.6417534351348877, \"cluster\": \"6\"}, {\"feedback\": \"love the new dark mode theme much easier on the eyes\", \"x\": 2.2529513835906982, \"y\": 5.404897212982178, \"cluster\": \"17\"}, {\"feedback\": \"navigation menu disappears when i try to click on subcategories\", \"x\": -3.215308427810669, \"y\": 4.835318088531494, \"cluster\": \"-1\"}, {\"feedback\": \"font size options make the site very accessible for older users\", \"x\": -0.24189184606075287, \"y\": 7.333226203918457, \"cluster\": \"2\"}, {\"feedback\": \"page crashes every time i try to upload multiple files at once\", \"x\": 1.505488634109497, \"y\": 0.3523983955383301, \"cluster\": \"38\"}, {\"feedback\": \"the color contrast meets accessibility standards perfectly\", \"x\": 2.5416767597198486, \"y\": 6.423523426055908, \"cluster\": \"18\"}, {\"feedback\": \"instructions are confusing and contradict each other frequently\", \"x\": -0.14258046448230743, \"y\": 0.9670280814170837, \"cluster\": \"40\"}, {\"feedback\": \"lightning fast response times even during peak hours\", \"x\": -0.8989414572715759, \"y\": -1.0215646028518677, \"cluster\": \"-1\"}, {\"feedback\": \"buttons are too small and difficult to tap on touch screens\", \"x\": -2.080259084701538, \"y\": 4.338226795196533, \"cluster\": \"12\"}, {\"feedback\": \"clean layout makes finding information quick and intuitive\", \"x\": 1.1735609769821167, \"y\": 5.887943744659424, \"cluster\": \"-1\"}, {\"feedback\": \"the page loads so slowly i almost gave up waiting\", \"x\": 2.784416913986206, \"y\": -0.31478843092918396, \"cluster\": \"-1\"}, {\"feedback\": \"love the new dark theme option much easier on my eyes\", \"x\": 2.2319958209991455, \"y\": 5.367841720581055, \"cluster\": \"17\"}, {\"feedback\": \"cant find the search button anywhere on this messy layout\", \"x\": -2.7326810359954834, \"y\": 4.878268718719482, \"cluster\": \"-1\"}, {\"feedback\": \"font size is too small hard to read for older users like me\", \"x\": -0.1573784202337265, \"y\": 7.28360652923584, \"cluster\": \"2\"}, {\"feedback\": \"super intuitive navigation found everything i needed quickly\", \"x\": -3.194119453430176, \"y\": 4.080603122711182, \"cluster\": \"-1\"}, {\"feedback\": \"the mobile version works perfectly on my phone great job\", \"x\": 0.09973778575658798, \"y\": 3.8069238662719727, \"cluster\": \"16\"}, {\"feedback\": \"error messages are confusing and dont help me fix the problem\", \"x\": 0.0923881083726883, \"y\": 0.8175585865974426, \"cluster\": \"39\"}, {\"feedback\": \"clean design and fast performance exactly what i was hoping for\", \"x\": 0.819035530090332, \"y\": 5.036510944366455, \"cluster\": \"-1\"}, {\"feedback\": \"menu keeps disappearing when i try to click on submenu items\", \"x\": -2.9304327964782715, \"y\": 4.7754926681518555, \"cluster\": \"11\"}, {\"feedback\": \"excellent accessibility features screen reader works flawlessly\", \"x\": 8.583060264587402, \"y\": 5.538483142852783, \"cluster\": \"1\"}, {\"feedback\": \"navigation menu is confusing and i cant find the settings page\", \"x\": -3.1709723472595215, \"y\": 4.686524391174316, \"cluster\": \"-1\"}, {\"feedback\": \"love the new dark mode feature much easier on my eyes at night\", \"x\": 2.371333599090576, \"y\": 5.556754112243652, \"cluster\": \"17\"}, {\"feedback\": \"app crashes every time i try to upload a photo very frustrating\", \"x\": 1.7465180158615112, \"y\": 0.79268878698349, \"cluster\": \"37\"}, {\"feedback\": \"clean interface and intuitive design make this a pleasure to use\", \"x\": 0.6006340384483337, \"y\": 5.282831192016602, \"cluster\": \"31\"}, {\"feedback\": \"text is too small to read comfortably needs better accessibility\", \"x\": -0.9691097140312195, \"y\": 7.7227325439453125, \"cluster\": \"10\"}, {\"feedback\": \"lightning fast loading times impressed with the performance boost\", \"x\": -0.9121630191802979, \"y\": -1.1870713233947754, \"cluster\": \"3\"}, {\"feedback\": \"the tutorial walkthrough made getting started incredibly easy\", \"x\": -1.7271586656570435, \"y\": 2.2661874294281006, \"cluster\": \"28\"}, {\"feedback\": \"site is completely broken on mobile devices unusable interface\", \"x\": 1.6382622718811035, \"y\": 1.07148015499115, \"cluster\": \"37\"}, {\"feedback\": \"the page loads incredibly fast i was impressed with the speed\", \"x\": -0.6127381324768066, \"y\": -1.315911889076233, \"cluster\": \"-1\"}, {\"feedback\": \"navigation menu is confusing and i cant find what i need\", \"x\": -3.3516807556152344, \"y\": 5.160262584686279, \"cluster\": \"20\"}, {\"feedback\": \"love the clean design and easy to read fonts throughout the site\", \"x\": 0.3448140025138855, \"y\": 6.678656578063965, \"cluster\": \"-1\"}, {\"feedback\": \"the search function doesnt work properly returns no results\", \"x\": -3.217353343963623, \"y\": -0.49344462156295776, \"cluster\": \"4\"}, {\"feedback\": \"accessibility features are excellent works great with my screen reader\", \"x\": 8.89417552947998, \"y\": 5.841513156890869, \"cluster\": \"0\"}, {\"feedback\": \"site crashes frequently on mobile very frustrating experience\", \"x\": 1.6604366302490234, \"y\": 1.0594888925552368, \"cluster\": \"37\"}, {\"feedback\": \"the color scheme is pleasant and easy on the eyes\", \"x\": 2.398723840713501, \"y\": 6.192872047424316, \"cluster\": \"18\"}, {\"feedback\": \"button labels are unclear i dont know what they do\", \"x\": -2.0306556224823, \"y\": 4.186088562011719, \"cluster\": \"12\"}, {\"feedback\": \"smooth scrolling and transitions make browsing enjoyable\", \"x\": 1.5718494653701782, \"y\": 5.407134532928467, \"cluster\": \"19\"}, {\"feedback\": \"loading times are terrible takes forever to see content\", \"x\": 2.8455374240875244, \"y\": -0.7493083477020264, \"cluster\": \"-1\"}, {\"feedback\": \"theme search function works perfectly and loads results instantly\", \"x\": 1.5498243570327759, \"y\": 3.688577651977539, \"cluster\": \"-1\"}, {\"feedback\": \"navigation menu is confusing and hard to find what i need quickly\", \"x\": -3.4901552200317383, \"y\": 4.832969665527344, \"cluster\": \"-1\"}, {\"feedback\": \"love the clean interface design and intuitive theme categories\", \"x\": 1.2731865644454956, \"y\": 5.007407188415527, \"cluster\": \"23\"}, {\"feedback\": \"page takes forever to load when browsing through theme previews\", \"x\": 2.5547268390655518, \"y\": -0.0033421404659748077, \"cluster\": \"-1\"}, {\"feedback\": \"filter options are comprehensive and make finding themes easy\", \"x\": 1.8078306913375854, \"y\": 4.272517681121826, \"cluster\": \"24\"}, {\"feedback\": \"text is too small and difficult to read on mobile devices\", \"x\": -1.2690718173980713, \"y\": 7.706573009490967, \"cluster\": \"-1\"}, {\"feedback\": \"preview feature shows exactly how themes will look on my site\", \"x\": 1.9163864850997925, \"y\": 4.118927478790283, \"cluster\": \"24\"}, {\"feedback\": \"download button location is unclear and poorly positioned\", \"x\": -2.832477569580078, \"y\": 4.1892852783203125, \"cluster\": \"-1\"}, {\"feedback\": \"excellent color scheme options and customization tools available\", \"x\": 2.263584613800049, \"y\": 6.13460636138916, \"cluster\": \"18\"}, {\"feedback\": \"search results are often irrelevant to my actual query terms\", \"x\": -3.3461391925811768, \"y\": -0.32820990681648254, \"cluster\": \"4\"}, {\"feedback\": \"the navigation menu is confusing and i cant find basic features easily\", \"x\": -3.0979599952697754, \"y\": 5.1480560302734375, \"cluster\": \"-1\"}, {\"feedback\": \"love the clean interface design very intuitive and user friendly\", \"x\": 0.7718331813812256, \"y\": 5.215997219085693, \"cluster\": \"34\"}, {\"feedback\": \"page loading takes forever especially on the dashboard section\", \"x\": 2.978670597076416, \"y\": -0.14830711483955383, \"cluster\": \"26\"}, {\"feedback\": \"excellent accessibility features screen reader works perfectly\", \"x\": 8.65400218963623, \"y\": 5.613088607788086, \"cluster\": \"1\"}, {\"feedback\": \"super fast response times and the new update improved everything\", \"x\": -1.1240772008895874, \"y\": -0.6383343935012817, \"cluster\": \"3\"}, {\"feedback\": \"text is too small to read comfortably needs better font sizing\", \"x\": -0.29227763414382935, \"y\": 7.5606560707092285, \"cluster\": \"2\"}, {\"feedback\": \"brilliant color scheme and layout makes browsing really enjoyable\", \"x\": 1.7795803546905518, \"y\": 5.880186080932617, \"cluster\": \"19\"}, {\"feedback\": \"login process is broken keeps redirecting to error page constantly\", \"x\": 1.1137090921401978, \"y\": 0.26973822712898254, \"cluster\": \"22\"}, {\"feedback\": \"amazing customer support integration got help within minutes\", \"x\": -1.3093498945236206, \"y\": 0.5659217834472656, \"cluster\": \"15\"}, {\"feedback\": \"page loading times are frustratingly slow especially on mobile\", \"x\": 3.161600351333618, \"y\": -0.6377880573272705, \"cluster\": \"27\"}, {\"feedback\": \"love the clean design and intuitive navigation throughout the site\", \"x\": 1.2589305639266968, \"y\": 5.7069621086120605, \"cluster\": \"-1\"}, {\"feedback\": \"text is too small to read comfortably without zooming in constantly\", \"x\": -0.9651549458503723, \"y\": 7.779989242553711, \"cluster\": \"5\"}, {\"feedback\": \"the color contrast makes it easy to read content clearly\", \"x\": 2.4326343536376953, \"y\": 6.448207378387451, \"cluster\": \"18\"}, {\"feedback\": \"menu items are confusing and i cant find basic information easily\", \"x\": -3.078047513961792, \"y\": 5.061508655548096, \"cluster\": \"11\"}, {\"feedback\": \"responsive design works great across all my devices seamlessly\", \"x\": 0.3654123842716217, \"y\": 4.427490234375, \"cluster\": \"-1\"}, {\"feedback\": \"the checkout process is smooth and completed in just a few clicks\", \"x\": -1.7274830341339111, \"y\": 1.43989098072052, \"cluster\": \"29\"}, {\"feedback\": \"images take forever to load and sometimes dont appear at all\", \"x\": 2.615300178527832, \"y\": 0.035554107278585434, \"cluster\": \"-1\"}, {\"feedback\": \"page takes forever to load very frustrating experience\", \"x\": 2.924623727798462, \"y\": -0.14282098412513733, \"cluster\": \"26\"}, {\"feedback\": \"love the clean design and intuitive navigation menu\", \"x\": 1.1066256761550903, \"y\": 5.421259880065918, \"cluster\": \"33\"}, {\"feedback\": \"error messages are confusing and dont explain what went wrong\", \"x\": 0.08478076010942459, \"y\": 0.8202419281005859, \"cluster\": \"-1\"}, {\"feedback\": \"mobile version works great very responsive on my phone\", \"x\": 0.11805488169193268, \"y\": 3.862610340118408, \"cluster\": \"16\"}, {\"feedback\": \"cant find the logout button anywhere on the main page\", \"x\": -0.08443138748407364, \"y\": 2.2338781356811523, \"cluster\": \"-1\"}, {\"feedback\": \"excellent accessibility features screen reader works well\", \"x\": 8.640846252441406, \"y\": 5.51423454284668, \"cluster\": \"1\"}, {\"feedback\": \"form validation is broken keeps rejecting valid email addresses\", \"x\": 0.4452490210533142, \"y\": 1.3746685981750488, \"cluster\": \"35\"}, {\"feedback\": \"simple and straightforward checkout process no issues at all\", \"x\": -1.8822839260101318, \"y\": 1.3042528629302979, \"cluster\": \"29\"}, {\"feedback\": \"color contrast is poor text is barely visible on background\", \"x\": 2.5397276878356934, \"y\": 6.5708088874816895, \"cluster\": \"18\"}, {\"feedback\": \"navigation menu is confusing and hard to find what i need\", \"x\": -3.587623119354248, \"y\": 5.005258560180664, \"cluster\": \"21\"}, {\"feedback\": \"love the clean design and intuitive layout\", \"x\": 0.9618334174156189, \"y\": 5.685272216796875, \"cluster\": \"33\"}, {\"feedback\": \"site loads super fast great performance overall\", \"x\": -1.0310561656951904, \"y\": -1.5234891176223755, \"cluster\": \"13\"}, {\"feedback\": \"text is too small and difficult to read on mobile\", \"x\": -1.2846351861953735, \"y\": 7.664090156555176, \"cluster\": \"-1\"}, {\"feedback\": \"search function works perfectly and finds exactly what i want\", \"x\": -2.7713699340820312, \"y\": -0.30710941553115845, \"cluster\": \"8\"}, {\"feedback\": \"pages take forever to load very frustrating experience\", \"x\": 2.88788104057312, \"y\": -0.2620144784450531, \"cluster\": \"26\"}, {\"feedback\": \"excellent accessibility features easy to use with screen reader\", \"x\": 8.797296524047852, \"y\": 5.757376194000244, \"cluster\": \"-1\"}, {\"feedback\": \"button colors are unclear cant tell whats clickable\", \"x\": -2.08119797706604, \"y\": 4.241885185241699, \"cluster\": \"12\"}, {\"feedback\": \"simple and straightforward interface exactly what i needed\", \"x\": 0.49779999256134033, \"y\": 5.312282562255859, \"cluster\": \"31\"}, {\"feedback\": \"forms keep crashing when i try to submit my information\", \"x\": 0.9830522537231445, \"y\": 1.2464860677719116, \"cluster\": \"36\"}]}}, {\"mode\": \"vega-lite\"});\n",
       "</script>"
      ],
      "text/plain": [
       "alt.Chart(...)"
      ]
     },
     "execution_count": 36,
     "metadata": {},
     "output_type": "execute_result"
    }
   ],
   "source": [
    "fig = (\n",
    "    altair.Chart(col_df, width = 800, height = 800, title=\"Feedback clusters\")\n",
    "    .mark_circle(size = 60)\n",
    "    .encode(\n",
    "        x=\"x\", y=\"y\", tooltip=[\"feedback\", \"cluster\"],\n",
    "        color=altair.Color(\"cluster\", scale=altair.Scale(scheme='category20')) \n",
    "    ) \n",
    ").interactive()\n",
    "\n",
    "fig.configure_title(fontSize=24)"
   ]
  },
  {
   "cell_type": "code",
   "execution_count": 37,
   "metadata": {},
   "outputs": [],
   "source": [
    "fig.save(\"../outputs/feedback_clusters_2025-06-14.html\")"
   ]
  },
  {
   "cell_type": "markdown",
   "metadata": {},
   "source": [
    "Clustering feedback and profiling resulting clusters can help us detect themes we may not be aware of. It can also serve for validation purposes to compare to outputs from another method, such as LLM theme detection and summarisation."
   ]
  }
 ],
 "metadata": {
  "kernelspec": {
   "display_name": ".venv",
   "language": "python",
   "name": "python3"
  },
  "language_info": {
   "codemirror_mode": {
    "name": "ipython",
    "version": 3
   },
   "file_extension": ".py",
   "mimetype": "text/x-python",
   "name": "python",
   "nbconvert_exporter": "python",
   "pygments_lexer": "ipython3",
   "version": "3.12.0"
  }
 },
 "nbformat": 4,
 "nbformat_minor": 2
}
